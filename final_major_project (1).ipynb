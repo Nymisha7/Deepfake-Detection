{
  "metadata": {
    "kernelspec": {
      "language": "python",
      "display_name": "Python 3",
      "name": "python3"
    },
    "language_info": {
      "name": "python",
      "version": "3.6.6",
      "mimetype": "text/x-python",
      "codemirror_mode": {
        "name": "ipython",
        "version": 3
      },
      "pygments_lexer": "ipython3",
      "nbconvert_exporter": "python",
      "file_extension": ".py"
    },
    "kaggle": {
      "accelerator": "gpu",
      "dataSources": [
        {
          "sourceId": 16880,
          "databundleVersionId": 858837,
          "sourceType": "competition"
        }
      ],
      "dockerImageVersionId": 29845,
      "isInternetEnabled": true,
      "language": "python",
      "sourceType": "notebook",
      "isGpuEnabled": true
    },
    "colab": {
      "name": "final-major project",
      "provenance": []
    }
  },
  "nbformat_minor": 0,
  "nbformat": 4,
  "cells": [
    {
      "source": [
        "\n",
        "# IMPORTANT: RUN THIS CELL IN ORDER TO IMPORT YOUR KAGGLE DATA SOURCES\n",
        "# TO THE CORRECT LOCATION (/kaggle/input) IN YOUR NOTEBOOK,\n",
        "# THEN FEEL FREE TO DELETE THIS CELL.\n",
        "# NOTE: THIS NOTEBOOK ENVIRONMENT DIFFERS FROM KAGGLE'S PYTHON\n",
        "# ENVIRONMENT SO THERE MAY BE MISSING LIBRARIES USED BY YOUR\n",
        "# NOTEBOOK.\n",
        "\n",
        "import os\n",
        "import sys\n",
        "from tempfile import NamedTemporaryFile\n",
        "from urllib.request import urlopen\n",
        "from urllib.parse import unquote, urlparse\n",
        "from urllib.error import HTTPError\n",
        "from zipfile import ZipFile\n",
        "import tarfile\n",
        "import shutil\n",
        "\n",
        "CHUNK_SIZE = 40960\n",
        "DATA_SOURCE_MAPPING = 'deepfake-detection-challenge:https%3A%2F%2Fstorage.googleapis.com%2Fkaggle-competitions-data%2Fkaggle-v2%2F16880%2F858837%2Fbundle%2Farchive.zip%3FX-Goog-Algorithm%3DGOOG4-RSA-SHA256%26X-Goog-Credential%3Dgcp-kaggle-com%2540kaggle-161607.iam.gserviceaccount.com%252F20240516%252Fauto%252Fstorage%252Fgoog4_request%26X-Goog-Date%3D20240516T225200Z%26X-Goog-Expires%3D259200%26X-Goog-SignedHeaders%3Dhost%26X-Goog-Signature%3D251a888b31095be6e9d6034db38e835662e05c948de3806fbee06633b711e63e0782de10fa4f7e23f434d3c70a238f8bfeb8ee2242cccd435ca88d4db69023effff236e9801a4fd7ea43f9136fbcc47ddec0143b9d05e8b78c4679856d84cc0bb9051bfd4a4d6daab390b0663811ed798c9cfe336baa9647146c0a76d810c30a2ede252b4a766786465638013f7425e841653f3a1000b896c6ff68dce5ca6aac48192bbd5a345dced7df31a417572e7fd3bab4e258a4c19f6d93e8246a387b00f55ff272ae3288edcdb53462b2b61956b7cbd48242870f48326a77c4054977fccab9494ba94a198db47445e6540eae868701cdc55d78fed4711ce5db123c895e'\n",
        "\n",
        "KAGGLE_INPUT_PATH='/kaggle/input'\n",
        "KAGGLE_WORKING_PATH='/kaggle/working'\n",
        "KAGGLE_SYMLINK='kaggle'\n",
        "\n",
        "!umount /kaggle/input/ 2> /dev/null\n",
        "shutil.rmtree('/kaggle/input', ignore_errors=True)\n",
        "os.makedirs(KAGGLE_INPUT_PATH, 0o777, exist_ok=True)\n",
        "os.makedirs(KAGGLE_WORKING_PATH, 0o777, exist_ok=True)\n",
        "\n",
        "try:\n",
        "  os.symlink(KAGGLE_INPUT_PATH, os.path.join(\"..\", 'input'), target_is_directory=True)\n",
        "except FileExistsError:\n",
        "  pass\n",
        "try:\n",
        "  os.symlink(KAGGLE_WORKING_PATH, os.path.join(\"..\", 'working'), target_is_directory=True)\n",
        "except FileExistsError:\n",
        "  pass\n",
        "\n",
        "for data_source_mapping in DATA_SOURCE_MAPPING.split(','):\n",
        "    directory, download_url_encoded = data_source_mapping.split(':')\n",
        "    download_url = unquote(download_url_encoded)\n",
        "    filename = urlparse(download_url).path\n",
        "    destination_path = os.path.join(KAGGLE_INPUT_PATH, directory)\n",
        "    try:\n",
        "        with urlopen(download_url) as fileres, NamedTemporaryFile() as tfile:\n",
        "            total_length = fileres.headers['content-length']\n",
        "            print(f'Downloading {directory}, {total_length} bytes compressed')\n",
        "            dl = 0\n",
        "            data = fileres.read(CHUNK_SIZE)\n",
        "            while len(data) > 0:\n",
        "                dl += len(data)\n",
        "                tfile.write(data)\n",
        "                done = int(50 * dl / int(total_length))\n",
        "                sys.stdout.write(f\"\\r[{'=' * done}{' ' * (50-done)}] {dl} bytes downloaded\")\n",
        "                sys.stdout.flush()\n",
        "                data = fileres.read(CHUNK_SIZE)\n",
        "            if filename.endswith('.zip'):\n",
        "              with ZipFile(tfile) as zfile:\n",
        "                zfile.extractall(destination_path)\n",
        "            else:\n",
        "              with tarfile.open(tfile.name) as tarfile:\n",
        "                tarfile.extractall(destination_path)\n",
        "            print(f'\\nDownloaded and uncompressed: {directory}')\n",
        "    except HTTPError as e:\n",
        "        print(f'Failed to load (likely expired) {download_url} to path {destination_path}')\n",
        "        continue\n",
        "    except OSError as e:\n",
        "        print(f'Failed to load {download_url} to path {destination_path}')\n",
        "        continue\n",
        "\n",
        "print('Data source import complete.')\n"
      ],
      "metadata": {
        "id": "1sIaxNMHmwG0"
      },
      "cell_type": "code",
      "outputs": [],
      "execution_count": null
    },
    {
      "cell_type": "code",
      "source": [
        "''' This Python 3 environment comes with many helpful analytics libraries installed\n",
        "It is defined by the kaggle/python Docker image: https://github.com/kaggle/docker-python\n",
        "Input data files are available in the read-only \"../input/\" directory\n",
        "For example, running this (by clicking run or pressing Shift+Enter) will list all files under the input directory'''\n",
        "\n",
        "import numpy as np\n",
        "import pandas as pd\n",
        "\n",
        "import os\n",
        "for dirname, _, filenames in os.walk('/kaggle/input'):\n",
        "    for filename in filenames:\n",
        "        print(os.path.join(dirname, filename))"
      ],
      "metadata": {
        "_uuid": "8f2839f25d086af736a60e9eeb907d3b93b6e0e5",
        "_cell_guid": "b1076dfc-b9ad-4769-8c92-a6c4dae69d19",
        "execution": {
          "iopub.status.busy": "2024-05-16T21:06:45.035454Z",
          "iopub.execute_input": "2024-05-16T21:06:45.035816Z",
          "iopub.status.idle": "2024-05-16T21:06:45.716556Z",
          "shell.execute_reply.started": "2024-05-16T21:06:45.035754Z",
          "shell.execute_reply": "2024-05-16T21:06:45.715762Z"
        },
        "trusted": true,
        "id": "7CcTKva8mwG4",
        "outputId": "f86ddd37-a4ab-4f17-d0f7-0c556ab17d38"
      },
      "execution_count": null,
      "outputs": [
        {
          "name": "stdout",
          "text": "/kaggle/input/deepfake-detection-challenge/sample_submission.csv\n/kaggle/input/deepfake-detection-challenge/test_videos/qooxnxqqjb.mp4\n/kaggle/input/deepfake-detection-challenge/test_videos/hierggamuo.mp4\n/kaggle/input/deepfake-detection-challenge/test_videos/ocgdbrgmtq.mp4\n/kaggle/input/deepfake-detection-challenge/test_videos/icbsahlivv.mp4\n/kaggle/input/deepfake-detection-challenge/test_videos/prhmixykhr.mp4\n/kaggle/input/deepfake-detection-challenge/test_videos/ihglzxzroo.mp4\n/kaggle/input/deepfake-detection-challenge/test_videos/yarpxfqejd.mp4\n/kaggle/input/deepfake-detection-challenge/test_videos/orixbcfvdz.mp4\n/kaggle/input/deepfake-detection-challenge/test_videos/qxyrtwozyw.mp4\n/kaggle/input/deepfake-detection-challenge/test_videos/hqzwudvhih.mp4\n/kaggle/input/deepfake-detection-challenge/test_videos/ghnpsltzyn.mp4\n/kaggle/input/deepfake-detection-challenge/test_videos/ziipxxchai.mp4\n/kaggle/input/deepfake-detection-challenge/test_videos/fddmkqjwsh.mp4\n/kaggle/input/deepfake-detection-challenge/test_videos/oefukgnvel.mp4\n/kaggle/input/deepfake-detection-challenge/test_videos/wcssbghcpc.mp4\n/kaggle/input/deepfake-detection-challenge/test_videos/wjhpisoeaj.mp4\n/kaggle/input/deepfake-detection-challenge/test_videos/qsjiypnjwi.mp4\n/kaggle/input/deepfake-detection-challenge/test_videos/eqslzbqfea.mp4\n/kaggle/input/deepfake-detection-challenge/test_videos/dvtpwatuja.mp4\n/kaggle/input/deepfake-detection-challenge/test_videos/xjvxtuakyd.mp4\n/kaggle/input/deepfake-detection-challenge/test_videos/uhakqelqri.mp4\n/kaggle/input/deepfake-detection-challenge/test_videos/apedduehoy.mp4\n/kaggle/input/deepfake-detection-challenge/test_videos/itfsvvmslp.mp4\n/kaggle/input/deepfake-detection-challenge/test_videos/okgelildpc.mp4\n/kaggle/input/deepfake-detection-challenge/test_videos/vwxednhlwz.mp4\n/kaggle/input/deepfake-detection-challenge/test_videos/pcoxcmtroa.mp4\n/kaggle/input/deepfake-detection-challenge/test_videos/dsnxgrfdmd.mp4\n/kaggle/input/deepfake-detection-challenge/test_videos/yxvmusxvcz.mp4\n/kaggle/input/deepfake-detection-challenge/test_videos/yllztsrwjw.mp4\n/kaggle/input/deepfake-detection-challenge/test_videos/tjywwgftmv.mp4\n/kaggle/input/deepfake-detection-challenge/test_videos/bwdmzwhdnw.mp4\n/kaggle/input/deepfake-detection-challenge/test_videos/yzuestxcbq.mp4\n/kaggle/input/deepfake-detection-challenge/test_videos/rnfcjxynfa.mp4\n/kaggle/input/deepfake-detection-challenge/test_videos/vokrpfjpeb.mp4\n/kaggle/input/deepfake-detection-challenge/test_videos/ncmpqwmnzb.mp4\n/kaggle/input/deepfake-detection-challenge/test_videos/yoyhmxtrys.mp4\n/kaggle/input/deepfake-detection-challenge/test_videos/owaogcehvc.mp4\n/kaggle/input/deepfake-detection-challenge/test_videos/dzkyxbbqkr.mp4\n/kaggle/input/deepfake-detection-challenge/test_videos/rxdoimqble.mp4\n/kaggle/input/deepfake-detection-challenge/test_videos/qdqdsaiitt.mp4\n/kaggle/input/deepfake-detection-challenge/test_videos/huvlwkxoxm.mp4\n/kaggle/input/deepfake-detection-challenge/test_videos/lpgxwdgnio.mp4\n/kaggle/input/deepfake-detection-challenge/test_videos/swsaoktwgi.mp4\n/kaggle/input/deepfake-detection-challenge/test_videos/sylnrepacf.mp4\n/kaggle/input/deepfake-detection-challenge/test_videos/ouaowjmigq.mp4\n/kaggle/input/deepfake-detection-challenge/test_videos/tjuihawuqm.mp4\n/kaggle/input/deepfake-detection-challenge/test_videos/keioymnobc.mp4\n/kaggle/input/deepfake-detection-challenge/test_videos/rtpbawlmxr.mp4\n/kaggle/input/deepfake-detection-challenge/test_videos/novarhxpbj.mp4\n/kaggle/input/deepfake-detection-challenge/test_videos/dvkdfhrpph.mp4\n/kaggle/input/deepfake-detection-challenge/test_videos/ytopzxrswu.mp4\n/kaggle/input/deepfake-detection-challenge/test_videos/esjdyghhog.mp4\n/kaggle/input/deepfake-detection-challenge/test_videos/gpsxfxrjrr.mp4\n/kaggle/input/deepfake-detection-challenge/test_videos/wndursivcx.mp4\n/kaggle/input/deepfake-detection-challenge/test_videos/yxirnfyijn.mp4\n/kaggle/input/deepfake-detection-challenge/test_videos/esmqxszybs.mp4\n/kaggle/input/deepfake-detection-challenge/test_videos/oelqpetgwj.mp4\n/kaggle/input/deepfake-detection-challenge/test_videos/toinozytsp.mp4\n/kaggle/input/deepfake-detection-challenge/test_videos/mkmgcxaztt.mp4\n/kaggle/input/deepfake-detection-challenge/test_videos/jsbpkpxwew.mp4\n/kaggle/input/deepfake-detection-challenge/test_videos/ytddugrwph.mp4\n/kaggle/input/deepfake-detection-challenge/test_videos/htzbnroagi.mp4\n/kaggle/input/deepfake-detection-challenge/test_videos/eywdmustbb.mp4\n/kaggle/input/deepfake-detection-challenge/test_videos/knxltsvzyu.mp4\n/kaggle/input/deepfake-detection-challenge/test_videos/gkutjglghz.mp4\n/kaggle/input/deepfake-detection-challenge/test_videos/mnzabbkpmt.mp4\n/kaggle/input/deepfake-detection-challenge/test_videos/qhsehzgxqj.mp4\n/kaggle/input/deepfake-detection-challenge/test_videos/ibxfxggtqh.mp4\n/kaggle/input/deepfake-detection-challenge/test_videos/kqlvggiqee.mp4\n/kaggle/input/deepfake-detection-challenge/test_videos/wfzjxzhdkj.mp4\n/kaggle/input/deepfake-detection-challenge/test_videos/hzssdinxec.mp4\n/kaggle/input/deepfake-detection-challenge/test_videos/eryjktdexi.mp4\n/kaggle/input/deepfake-detection-challenge/test_videos/ecumyiowzs.mp4\n/kaggle/input/deepfake-detection-challenge/test_videos/tyjpjpglgx.mp4\n/kaggle/input/deepfake-detection-challenge/test_videos/iorbtaarte.mp4\n/kaggle/input/deepfake-detection-challenge/test_videos/rmlzgerevr.mp4\n/kaggle/input/deepfake-detection-challenge/test_videos/wixbuuzygv.mp4\n/kaggle/input/deepfake-detection-challenge/test_videos/ryxaqpfubf.mp4\n/kaggle/input/deepfake-detection-challenge/test_videos/ncoeewrdlo.mp4\n/kaggle/input/deepfake-detection-challenge/test_videos/qqnlrngaft.mp4\n/kaggle/input/deepfake-detection-challenge/test_videos/qlqhjcshpk.mp4\n/kaggle/input/deepfake-detection-challenge/test_videos/lujvyveojc.mp4\n/kaggle/input/deepfake-detection-challenge/test_videos/hbufmvbium.mp4\n/kaggle/input/deepfake-detection-challenge/test_videos/cjkctqqakb.mp4\n/kaggle/input/deepfake-detection-challenge/test_videos/rcjfxxhcal.mp4\n/kaggle/input/deepfake-detection-challenge/test_videos/scrbqgpvzz.mp4\n/kaggle/input/deepfake-detection-challenge/test_videos/wvgviwnwob.mp4\n/kaggle/input/deepfake-detection-challenge/test_videos/rerpivllud.mp4\n/kaggle/input/deepfake-detection-challenge/test_videos/qhkzlnzruj.mp4\n/kaggle/input/deepfake-detection-challenge/test_videos/xrtvqhdibb.mp4\n/kaggle/input/deepfake-detection-challenge/test_videos/uvrzaczrbx.mp4\n/kaggle/input/deepfake-detection-challenge/test_videos/scbdenmaed.mp4\n/kaggle/input/deepfake-detection-challenge/test_videos/yljecirelf.mp4\n/kaggle/input/deepfake-detection-challenge/test_videos/mwnibuujwz.mp4\n/kaggle/input/deepfake-detection-challenge/test_videos/blnmxntbey.mp4\n/kaggle/input/deepfake-detection-challenge/test_videos/fmvvmcbdrw.mp4\n/kaggle/input/deepfake-detection-challenge/test_videos/viteugozpv.mp4\n/kaggle/input/deepfake-detection-challenge/test_videos/mdfndlljvt.mp4\n/kaggle/input/deepfake-detection-challenge/test_videos/rrrfjhugvb.mp4\n/kaggle/input/deepfake-detection-challenge/test_videos/yhylappzid.mp4\n/kaggle/input/deepfake-detection-challenge/test_videos/mkzaekkvej.mp4\n/kaggle/input/deepfake-detection-challenge/test_videos/mxlipjhmqk.mp4\n/kaggle/input/deepfake-detection-challenge/test_videos/oysopgovhu.mp4\n/kaggle/input/deepfake-detection-challenge/test_videos/zbgssotnjm.mp4\n/kaggle/input/deepfake-detection-challenge/test_videos/mohiqoogpb.mp4\n/kaggle/input/deepfake-detection-challenge/test_videos/vizerpsvbz.mp4\n/kaggle/input/deepfake-detection-challenge/test_videos/gfcycflhbo.mp4\n/kaggle/input/deepfake-detection-challenge/test_videos/frqfsucgao.mp4\n/kaggle/input/deepfake-detection-challenge/test_videos/wclvkepakb.mp4\n/kaggle/input/deepfake-detection-challenge/test_videos/zfrrixsimm.mp4\n/kaggle/input/deepfake-detection-challenge/test_videos/dxgnpnowgk.mp4\n/kaggle/input/deepfake-detection-challenge/test_videos/ucthmsajay.mp4\n/kaggle/input/deepfake-detection-challenge/test_videos/udxqbhgvvx.mp4\n/kaggle/input/deepfake-detection-challenge/test_videos/phjvutxpoi.mp4\n/kaggle/input/deepfake-detection-challenge/test_videos/kmqkiihrmj.mp4\n/kaggle/input/deepfake-detection-challenge/test_videos/hnfwagcxdf.mp4\n/kaggle/input/deepfake-detection-challenge/test_videos/hweshqpfwe.mp4\n/kaggle/input/deepfake-detection-challenge/test_videos/ipvwtgdlre.mp4\n/kaggle/input/deepfake-detection-challenge/test_videos/kwfdyqofzw.mp4\n/kaggle/input/deepfake-detection-challenge/test_videos/sznkemeqro.mp4\n/kaggle/input/deepfake-detection-challenge/test_videos/zxacihctqp.mp4\n/kaggle/input/deepfake-detection-challenge/test_videos/uoccaiathd.mp4\n/kaggle/input/deepfake-detection-challenge/test_videos/bofrwgeyjo.mp4\n/kaggle/input/deepfake-detection-challenge/test_videos/prwsfljdjo.mp4\n/kaggle/input/deepfake-detection-challenge/test_videos/fsdrwikhge.mp4\n/kaggle/input/deepfake-detection-challenge/test_videos/ljouzjaqqe.mp4\n/kaggle/input/deepfake-detection-challenge/test_videos/qlvsqdroqo.mp4\n/kaggle/input/deepfake-detection-challenge/test_videos/oocincvedt.mp4\n/kaggle/input/deepfake-detection-challenge/test_videos/uxuvkrjhws.mp4\n/kaggle/input/deepfake-detection-challenge/test_videos/elackxuccp.mp4\n/kaggle/input/deepfake-detection-challenge/test_videos/imdmhwkkni.mp4\n/kaggle/input/deepfake-detection-challenge/test_videos/yxadevzohx.mp4\n/kaggle/input/deepfake-detection-challenge/test_videos/omphqltjdd.mp4\n/kaggle/input/deepfake-detection-challenge/test_videos/dpevefkefv.mp4\n/kaggle/input/deepfake-detection-challenge/test_videos/nwvloufjty.mp4\n/kaggle/input/deepfake-detection-challenge/test_videos/ajiyrjfyzp.mp4\n/kaggle/input/deepfake-detection-challenge/test_videos/jiavqbrkyk.mp4\n/kaggle/input/deepfake-detection-challenge/test_videos/cekwtyxdoo.mp4\n/kaggle/input/deepfake-detection-challenge/test_videos/espkiocpxq.mp4\n/kaggle/input/deepfake-detection-challenge/test_videos/lnhkjhyhvw.mp4\n/kaggle/input/deepfake-detection-challenge/test_videos/tgawasvbbr.mp4\n/kaggle/input/deepfake-detection-challenge/test_videos/sngjsueuhs.mp4\n/kaggle/input/deepfake-detection-challenge/test_videos/jhczqfefgw.mp4\n/kaggle/input/deepfake-detection-challenge/test_videos/ndikguxzek.mp4\n/kaggle/input/deepfake-detection-challenge/test_videos/kvmpmhdxly.mp4\n/kaggle/input/deepfake-detection-challenge/test_videos/temeqbmzxu.mp4\n/kaggle/input/deepfake-detection-challenge/test_videos/jytrvwlewz.mp4\n/kaggle/input/deepfake-detection-challenge/test_videos/yhjlnisfel.mp4\n/kaggle/input/deepfake-detection-challenge/test_videos/cnxccbjlct.mp4\n/kaggle/input/deepfake-detection-challenge/test_videos/rvvpazsffd.mp4\n/kaggle/input/deepfake-detection-challenge/test_videos/srfefmyjvt.mp4\n/kaggle/input/deepfake-detection-challenge/test_videos/eisofhptvk.mp4\n/kaggle/input/deepfake-detection-challenge/test_videos/lpkgabskbw.mp4\n/kaggle/input/deepfake-detection-challenge/test_videos/hitfycdavv.mp4\n/kaggle/input/deepfake-detection-challenge/test_videos/zgjosltkie.mp4\n/kaggle/input/deepfake-detection-challenge/test_videos/nymodlmxni.mp4\n/kaggle/input/deepfake-detection-challenge/test_videos/yronlutbgm.mp4\n/kaggle/input/deepfake-detection-challenge/test_videos/tynfsthodx.mp4\n/kaggle/input/deepfake-detection-challenge/test_videos/blszgmxkvu.mp4\n/kaggle/input/deepfake-detection-challenge/test_videos/syxobtuucp.mp4\n/kaggle/input/deepfake-detection-challenge/test_videos/zuwwbbusgl.mp4\n/kaggle/input/deepfake-detection-challenge/test_videos/dpmgoiwhuf.mp4\n/kaggle/input/deepfake-detection-challenge/test_videos/bfdopzvxbi.mp4\n/kaggle/input/deepfake-detection-challenge/test_videos/eyguqfmgzh.mp4\n/kaggle/input/deepfake-detection-challenge/test_videos/pdswwyyntw.mp4\n/kaggle/input/deepfake-detection-challenge/test_videos/lmdyicksrv.mp4\n/kaggle/input/deepfake-detection-challenge/test_videos/ztyuiqrhdk.mp4\n/kaggle/input/deepfake-detection-challenge/test_videos/ptbnewtvon.mp4\n/kaggle/input/deepfake-detection-challenge/test_videos/kezwvsxxzj.mp4\n/kaggle/input/deepfake-detection-challenge/test_videos/yietrwuncf.mp4\n/kaggle/input/deepfake-detection-challenge/test_videos/gqnaxievjx.mp4\n/kaggle/input/deepfake-detection-challenge/test_videos/ruhtnngrqv.mp4\n/kaggle/input/deepfake-detection-challenge/test_videos/hsbljbsgxr.mp4\n/kaggle/input/deepfake-detection-challenge/test_videos/zmxeiipnqb.mp4\n/kaggle/input/deepfake-detection-challenge/test_videos/ahjnxtiamx.mp4\n/kaggle/input/deepfake-detection-challenge/test_videos/hfsvqabzfq.mp4\n/kaggle/input/deepfake-detection-challenge/test_videos/doniqevxeg.mp4\n/kaggle/input/deepfake-detection-challenge/test_videos/zgbhzkditd.mp4\n/kaggle/input/deepfake-detection-challenge/test_videos/iznnzjvaxc.mp4\n/kaggle/input/deepfake-detection-challenge/test_videos/vjljdfopjg.mp4\n/kaggle/input/deepfake-detection-challenge/test_videos/wcqvzujamg.mp4\n/kaggle/input/deepfake-detection-challenge/test_videos/gcdtglsoqj.mp4\n/kaggle/input/deepfake-detection-challenge/test_videos/rfwxcinshk.mp4\n/kaggle/input/deepfake-detection-challenge/test_videos/shnsajrsow.mp4\n/kaggle/input/deepfake-detection-challenge/test_videos/hsbwhlolsn.mp4\n/kaggle/input/deepfake-detection-challenge/test_videos/aayfryxljh.mp4\n/kaggle/input/deepfake-detection-challenge/test_videos/lnjkpdviqb.mp4\n/kaggle/input/deepfake-detection-challenge/test_videos/voawxrmqyl.mp4\n/kaggle/input/deepfake-detection-challenge/test_videos/ipkpxvwroe.mp4\n/kaggle/input/deepfake-detection-challenge/test_videos/fmhiujydwo.mp4\n/kaggle/input/deepfake-detection-challenge/test_videos/yqhouqakbx.mp4\n/kaggle/input/deepfake-detection-challenge/test_videos/mxahsihabr.mp4\n/kaggle/input/deepfake-detection-challenge/test_videos/nikynwcvuh.mp4\n/kaggle/input/deepfake-detection-challenge/test_videos/dcqodpzomd.mp4\n/kaggle/input/deepfake-detection-challenge/test_videos/csnkohqxdv.mp4\n/kaggle/input/deepfake-detection-challenge/test_videos/vajkicalux.mp4\n/kaggle/input/deepfake-detection-challenge/test_videos/alrtntfxtd.mp4\n/kaggle/input/deepfake-detection-challenge/test_videos/vvfszaosiv.mp4\n/kaggle/input/deepfake-detection-challenge/test_videos/demuhxssgl.mp4\n/kaggle/input/deepfake-detection-challenge/test_videos/ggzjfrirjh.mp4\n/kaggle/input/deepfake-detection-challenge/test_videos/qarqtkvgby.mp4\n/kaggle/input/deepfake-detection-challenge/test_videos/irqzdokcws.mp4\n/kaggle/input/deepfake-detection-challenge/test_videos/cnpanmywno.mp4\n/kaggle/input/deepfake-detection-challenge/test_videos/bkcyglmfci.mp4\n/kaggle/input/deepfake-detection-challenge/test_videos/gochxzemmq.mp4\n/kaggle/input/deepfake-detection-challenge/test_videos/jquevmhdvc.mp4\n/kaggle/input/deepfake-detection-challenge/test_videos/hevcclcklc.mp4\n/kaggle/input/deepfake-detection-challenge/test_videos/xdezcezszc.mp4\n/kaggle/input/deepfake-detection-challenge/test_videos/uqvxjfpwdo.mp4\n/kaggle/input/deepfake-detection-challenge/test_videos/lhvjzhjxdp.mp4\n/kaggle/input/deepfake-detection-challenge/test_videos/didzujjhtg.mp4\n/kaggle/input/deepfake-detection-challenge/test_videos/uubgqnvfdl.mp4\n/kaggle/input/deepfake-detection-challenge/test_videos/xphdfgmfmz.mp4\n/kaggle/input/deepfake-detection-challenge/test_videos/wynotylpnm.mp4\n/kaggle/input/deepfake-detection-challenge/test_videos/nxgzmgzkfv.mp4\n/kaggle/input/deepfake-detection-challenge/test_videos/hcanfkwivl.mp4\n/kaggle/input/deepfake-detection-challenge/test_videos/bjyaxvggle.mp4\n/kaggle/input/deepfake-detection-challenge/test_videos/honxqdilvv.mp4\n/kaggle/input/deepfake-detection-challenge/test_videos/aktnlyqpah.mp4\n/kaggle/input/deepfake-detection-challenge/test_videos/wcvsqnplsk.mp4\n/kaggle/input/deepfake-detection-challenge/test_videos/igpvrfjdzc.mp4\n/kaggle/input/deepfake-detection-challenge/test_videos/wmoqzxddkb.mp4\n/kaggle/input/deepfake-detection-challenge/test_videos/sufvvwmbha.mp4\n/kaggle/input/deepfake-detection-challenge/test_videos/lbigytrrtr.mp4\n/kaggle/input/deepfake-detection-challenge/test_videos/hszwwswewp.mp4\n/kaggle/input/deepfake-detection-challenge/test_videos/mszblrdprw.mp4\n/kaggle/input/deepfake-detection-challenge/test_videos/usqqvxcjmg.mp4\n/kaggle/input/deepfake-detection-challenge/test_videos/pdufsewrec.mp4\n/kaggle/input/deepfake-detection-challenge/test_videos/bcbqxhziqz.mp4\n/kaggle/input/deepfake-detection-challenge/test_videos/rklawjhbpv.mp4\n/kaggle/input/deepfake-detection-challenge/test_videos/cqhwesrciw.mp4\n/kaggle/input/deepfake-detection-challenge/test_videos/nwvsbmyndn.mp4\n/kaggle/input/deepfake-detection-challenge/test_videos/txnmkabufs.mp4\n/kaggle/input/deepfake-detection-challenge/test_videos/vtunvalyji.mp4\n/kaggle/input/deepfake-detection-challenge/test_videos/dmmvuaikkv.mp4\n/kaggle/input/deepfake-detection-challenge/test_videos/kowiwvrjht.mp4\n/kaggle/input/deepfake-detection-challenge/test_videos/njzshtfmcw.mp4\n/kaggle/input/deepfake-detection-challenge/test_videos/ywxpquomgt.mp4\n/kaggle/input/deepfake-detection-challenge/test_videos/vbcgoyxsvn.mp4\n/kaggle/input/deepfake-detection-challenge/test_videos/sjwywglgym.mp4\n/kaggle/input/deepfake-detection-challenge/test_videos/etdliwticv.mp4\n/kaggle/input/deepfake-detection-challenge/test_videos/vmxfwxgdei.mp4\n/kaggle/input/deepfake-detection-challenge/test_videos/ywauoonmlr.mp4\n/kaggle/input/deepfake-detection-challenge/test_videos/rukyxomwcx.mp4\n/kaggle/input/deepfake-detection-challenge/test_videos/aomqqjipcp.mp4\n/kaggle/input/deepfake-detection-challenge/test_videos/yaxgpxhavq.mp4\n/kaggle/input/deepfake-detection-challenge/test_videos/famlupsgqm.mp4\n/kaggle/input/deepfake-detection-challenge/test_videos/tvhjcfnqtg.mp4\n/kaggle/input/deepfake-detection-challenge/test_videos/hyjqolupxn.mp4\n/kaggle/input/deepfake-detection-challenge/test_videos/dnmowthjcj.mp4\n/kaggle/input/deepfake-detection-challenge/test_videos/fpevfidstw.mp4\n/kaggle/input/deepfake-detection-challenge/test_videos/pqthmvwonf.mp4\n/kaggle/input/deepfake-detection-challenge/test_videos/sqixhnilfm.mp4\n/kaggle/input/deepfake-detection-challenge/test_videos/ekelfsnqof.mp4\n/kaggle/input/deepfake-detection-challenge/test_videos/bdshuoldwx.mp4\n/kaggle/input/deepfake-detection-challenge/test_videos/txmnoyiyte.mp4\n/kaggle/input/deepfake-detection-challenge/test_videos/hzoiotcykp.mp4\n/kaggle/input/deepfake-detection-challenge/test_videos/dzojiwfvba.mp4\n/kaggle/input/deepfake-detection-challenge/test_videos/nxnmkytwze.mp4\n/kaggle/input/deepfake-detection-challenge/test_videos/lbfqksftuo.mp4\n/kaggle/input/deepfake-detection-challenge/test_videos/fopjiyxiqd.mp4\n/kaggle/input/deepfake-detection-challenge/test_videos/dozjwhnedd.mp4\n/kaggle/input/deepfake-detection-challenge/test_videos/sktpeppbkc.mp4\n/kaggle/input/deepfake-detection-challenge/test_videos/zfobicuigx.mp4\n/kaggle/input/deepfake-detection-challenge/test_videos/pxjkzvqomp.mp4\n/kaggle/input/deepfake-detection-challenge/test_videos/yiykshcbaz.mp4\n/kaggle/input/deepfake-detection-challenge/test_videos/wqysrieiqu.mp4\n/kaggle/input/deepfake-detection-challenge/test_videos/gfgcwxkbjd.mp4\n/kaggle/input/deepfake-detection-challenge/test_videos/gbnzicjyhz.mp4\n/kaggle/input/deepfake-detection-challenge/test_videos/pqdeutauqc.mp4\n/kaggle/input/deepfake-detection-challenge/test_videos/fjxovgmwnm.mp4\n/kaggle/input/deepfake-detection-challenge/test_videos/jzmzdispyo.mp4\n/kaggle/input/deepfake-detection-challenge/test_videos/mllzkpgatp.mp4\n/kaggle/input/deepfake-detection-challenge/test_videos/sodvtfqbpf.mp4\n/kaggle/input/deepfake-detection-challenge/test_videos/jsysgmycsx.mp4\n/kaggle/input/deepfake-detection-challenge/test_videos/fneqiqpqvs.mp4\n/kaggle/input/deepfake-detection-challenge/test_videos/coujjnypba.mp4\n/kaggle/input/deepfake-detection-challenge/test_videos/syuxttuyhm.mp4\n/kaggle/input/deepfake-detection-challenge/test_videos/cosghhimnd.mp4\n/kaggle/input/deepfake-detection-challenge/test_videos/hicjuubiau.mp4\n/kaggle/input/deepfake-detection-challenge/test_videos/apvzjkvnwn.mp4\n/kaggle/input/deepfake-detection-challenge/test_videos/aassnaulhq.mp4\n/kaggle/input/deepfake-detection-challenge/test_videos/ztyvglkcsf.mp4\n/kaggle/input/deepfake-detection-challenge/test_videos/upmgtackuf.mp4\n/kaggle/input/deepfake-detection-challenge/test_videos/oaguiggjyv.mp4\n/kaggle/input/deepfake-detection-challenge/test_videos/rcecrgeotc.mp4\n/kaggle/input/deepfake-detection-challenge/test_videos/oojxonbgow.mp4\n/kaggle/input/deepfake-detection-challenge/test_videos/fnxgqcvlsd.mp4\n/kaggle/input/deepfake-detection-challenge/test_videos/cqxxumarvp.mp4\n/kaggle/input/deepfake-detection-challenge/test_videos/uhrqlmlclw.mp4\n/kaggle/input/deepfake-detection-challenge/test_videos/iksxzpqxzi.mp4\n/kaggle/input/deepfake-detection-challenge/test_videos/xitgdpzbxv.mp4\n/kaggle/input/deepfake-detection-challenge/test_videos/heiyoojifp.mp4\n/kaggle/input/deepfake-detection-challenge/test_videos/xmkwsnuzyq.mp4\n/kaggle/input/deepfake-detection-challenge/test_videos/khpipxnsvx.mp4\n/kaggle/input/deepfake-detection-challenge/test_videos/nplviymzlg.mp4\n/kaggle/input/deepfake-detection-challenge/test_videos/ayipraspbn.mp4\n/kaggle/input/deepfake-detection-challenge/test_videos/fwykevubzy.mp4\n/kaggle/input/deepfake-detection-challenge/test_videos/nswtvttxre.mp4\n/kaggle/input/deepfake-detection-challenge/test_videos/jawgcggquk.mp4\n/kaggle/input/deepfake-detection-challenge/test_videos/temjefwaas.mp4\n/kaggle/input/deepfake-detection-challenge/test_videos/gahgyuwzbu.mp4\n/kaggle/input/deepfake-detection-challenge/test_videos/lebzjtusnr.mp4\n/kaggle/input/deepfake-detection-challenge/test_videos/dxfdovivlw.mp4\n/kaggle/input/deepfake-detection-challenge/test_videos/zcxcmneefk.mp4\n/kaggle/input/deepfake-detection-challenge/test_videos/sjkfxrlxxs.mp4\n/kaggle/input/deepfake-detection-challenge/test_videos/bzvzpwrabw.mp4\n/kaggle/input/deepfake-detection-challenge/test_videos/bnuwxhfahw.mp4\n/kaggle/input/deepfake-detection-challenge/test_videos/qswlzfgcgj.mp4\n/kaggle/input/deepfake-detection-challenge/test_videos/llplvmcvbl.mp4\n/kaggle/input/deepfake-detection-challenge/test_videos/gccnvdoknm.mp4\n/kaggle/input/deepfake-detection-challenge/test_videos/fzvpbrzssi.mp4\n/kaggle/input/deepfake-detection-challenge/test_videos/ylxwcwhjjd.mp4\n/kaggle/input/deepfake-detection-challenge/test_videos/kcjvhgvhpt.mp4\n/kaggle/input/deepfake-detection-challenge/test_videos/fxuxxtryjn.mp4\n/kaggle/input/deepfake-detection-challenge/test_videos/qclpbcbgeq.mp4\n/kaggle/input/deepfake-detection-challenge/test_videos/mnowxangqx.mp4\n/kaggle/input/deepfake-detection-challenge/test_videos/sjinmmbipg.mp4\n/kaggle/input/deepfake-detection-challenge/test_videos/fqgypsunzr.mp4\n/kaggle/input/deepfake-detection-challenge/test_videos/petmyhjclt.mp4\n/kaggle/input/deepfake-detection-challenge/test_videos/jyoxdvxpza.mp4\n/kaggle/input/deepfake-detection-challenge/test_videos/bktkwbcawi.mp4\n/kaggle/input/deepfake-detection-challenge/test_videos/acazlolrpz.mp4\n/kaggle/input/deepfake-detection-challenge/test_videos/lyoslorecs.mp4\n/kaggle/input/deepfake-detection-challenge/test_videos/ekvwecwltj.mp4\n/kaggle/input/deepfake-detection-challenge/test_videos/cekarydqba.mp4\n/kaggle/input/deepfake-detection-challenge/test_videos/ooafcxxfrs.mp4\n/kaggle/input/deepfake-detection-challenge/test_videos/vhbbwdflyh.mp4\n/kaggle/input/deepfake-detection-challenge/test_videos/ljauauuyka.mp4\n/kaggle/input/deepfake-detection-challenge/test_videos/hxwtsaydal.mp4\n/kaggle/input/deepfake-detection-challenge/test_videos/eppyqpgewp.mp4\n/kaggle/input/deepfake-detection-challenge/test_videos/pxcfrszlgi.mp4\n/kaggle/input/deepfake-detection-challenge/test_videos/bvpeerislp.mp4\n/kaggle/input/deepfake-detection-challenge/test_videos/dkuqbduxev.mp4\n/kaggle/input/deepfake-detection-challenge/test_videos/bfjsthfhbd.mp4\n/kaggle/input/deepfake-detection-challenge/test_videos/rfjuhbnlro.mp4\n/kaggle/input/deepfake-detection-challenge/test_videos/ybbrkacebd.mp4\n/kaggle/input/deepfake-detection-challenge/test_videos/qcbkztamqc.mp4\n/kaggle/input/deepfake-detection-challenge/test_videos/ypbtpunjvm.mp4\n/kaggle/input/deepfake-detection-challenge/test_videos/hclsparpth.mp4\n/kaggle/input/deepfake-detection-challenge/test_videos/xljemofssi.mp4\n/kaggle/input/deepfake-detection-challenge/test_videos/rktrpsdlci.mp4\n/kaggle/input/deepfake-detection-challenge/test_videos/nycmyuzpml.mp4\n/kaggle/input/deepfake-detection-challenge/test_videos/ptbfnkajyi.mp4\n/kaggle/input/deepfake-detection-challenge/test_videos/pcyswtgick.mp4\n/kaggle/input/deepfake-detection-challenge/test_videos/ystdtnetgj.mp4\n/kaggle/input/deepfake-detection-challenge/test_videos/wnlubukrki.mp4\n/kaggle/input/deepfake-detection-challenge/test_videos/halvwiltfs.mp4\n/kaggle/input/deepfake-detection-challenge/test_videos/ddtbarpcgo.mp4\n/kaggle/input/deepfake-detection-challenge/test_videos/oyqgwjdwaj.mp4\n/kaggle/input/deepfake-detection-challenge/test_videos/ggdpclfcgk.mp4\n/kaggle/input/deepfake-detection-challenge/test_videos/waucvvmtkq.mp4\n/kaggle/input/deepfake-detection-challenge/test_videos/wadvzjhwtw.mp4\n/kaggle/input/deepfake-detection-challenge/test_videos/bcvheslzrq.mp4\n/kaggle/input/deepfake-detection-challenge/test_videos/xxzefxwyku.mp4\n/kaggle/input/deepfake-detection-challenge/test_videos/evysmtpnrf.mp4\n/kaggle/input/deepfake-detection-challenge/test_videos/jiswxuqzyz.mp4\n/kaggle/input/deepfake-detection-challenge/test_videos/psesikjaxx.mp4\n/kaggle/input/deepfake-detection-challenge/test_videos/tejfudfgpq.mp4\n/kaggle/input/deepfake-detection-challenge/test_videos/coqwgzpbhx.mp4\n/kaggle/input/deepfake-detection-challenge/test_videos/hefisnapds.mp4\n/kaggle/input/deepfake-detection-challenge/test_videos/czfqlbcfpa.mp4\n/kaggle/input/deepfake-detection-challenge/test_videos/xugmhbetrw.mp4\n/kaggle/input/deepfake-detection-challenge/test_videos/zzmgnglanj.mp4\n/kaggle/input/deepfake-detection-challenge/test_videos/qyyhuvqmyf.mp4\n/kaggle/input/deepfake-detection-challenge/test_videos/orekjthsef.mp4\n/kaggle/input/deepfake-detection-challenge/test_videos/axfhbpkdlc.mp4\n/kaggle/input/deepfake-detection-challenge/test_videos/nxzgekegsp.mp4\n/kaggle/input/deepfake-detection-challenge/test_videos/vnlzxqwthl.mp4\n/kaggle/input/deepfake-detection-challenge/test_videos/xhtppuyqdr.mp4\n/kaggle/input/deepfake-detection-challenge/test_videos/gunamloolc.mp4\n/kaggle/input/deepfake-detection-challenge/test_videos/cxsvvnxpyz.mp4\n/kaggle/input/deepfake-detection-challenge/test_videos/siebfpwuhu.mp4\n/kaggle/input/deepfake-detection-challenge/test_videos/opvqdabdap.mp4\n/kaggle/input/deepfake-detection-challenge/test_videos/dtozwcapoa.mp4\n/kaggle/input/deepfake-detection-challenge/test_videos/papagllumt.mp4\n/kaggle/input/deepfake-detection-challenge/test_videos/vurjckblge.mp4\n/kaggle/input/deepfake-detection-challenge/test_videos/adohdulfwb.mp4\n/kaggle/input/deepfake-detection-challenge/test_videos/snlyjbnpgw.mp4\n/kaggle/input/deepfake-detection-challenge/test_videos/dvwpvqdflx.mp4\n/kaggle/input/deepfake-detection-challenge/test_videos/vssmlqoiti.mp4\n/kaggle/input/deepfake-detection-challenge/test_videos/zyufpqvpyu.mp4\n/kaggle/input/deepfake-detection-challenge/test_videos/btdxnajogv.mp4\n/kaggle/input/deepfake-detection-challenge/test_videos/mwwploizlj.mp4\n/kaggle/input/deepfake-detection-challenge/test_videos/fjrueenjyp.mp4\n/kaggle/input/deepfake-detection-challenge/test_videos/rmufsuogzn.mp4\n/kaggle/input/deepfake-detection-challenge/test_videos/xcruhaccxc.mp4\n/kaggle/input/deepfake-detection-challenge/test_videos/ilqwcbprqa.mp4\n/kaggle/input/deepfake-detection-challenge/test_videos/nkhzxomani.mp4\n/kaggle/input/deepfake-detection-challenge/test_videos/ekboxwrwuv.mp4\n/kaggle/input/deepfake-detection-challenge/test_videos/gfdjzwnpyp.mp4\n/kaggle/input/deepfake-detection-challenge/test_videos/vdtsbqidjb.mp4\n/kaggle/input/deepfake-detection-challenge/test_videos/jyfvaequfg.mp4\n/kaggle/input/deepfake-detection-challenge/test_videos/bkuzquigyt.mp4\n/kaggle/input/deepfake-detection-challenge/test_videos/sfsayjgzrh.mp4\n/kaggle/input/deepfake-detection-challenge/test_videos/kmcdjxmnoa.mp4\n/kaggle/input/deepfake-detection-challenge/test_videos/aqrsylrzgi.mp4\n/kaggle/input/deepfake-detection-challenge/test_videos/ojsxxkalat.mp4\n/kaggle/input/deepfake-detection-challenge/test_videos/dyjklprkoc.mp4\n/kaggle/input/deepfake-detection-challenge/test_videos/nthpnwylxo.mp4\n/kaggle/input/deepfake-detection-challenge/train_sample_videos/eivxffliio.mp4\n/kaggle/input/deepfake-detection-challenge/train_sample_videos/dwediigjit.mp4\n/kaggle/input/deepfake-detection-challenge/train_sample_videos/asvcrfdpnq.mp4\n/kaggle/input/deepfake-detection-challenge/train_sample_videos/dntkzzzcdh.mp4\n/kaggle/input/deepfake-detection-challenge/train_sample_videos/dboxtiehng.mp4\n/kaggle/input/deepfake-detection-challenge/train_sample_videos/elginszwtk.mp4\n/kaggle/input/deepfake-detection-challenge/train_sample_videos/cwbacdwrzo.mp4\n/kaggle/input/deepfake-detection-challenge/train_sample_videos/afoovlsmtx.mp4\n/kaggle/input/deepfake-detection-challenge/train_sample_videos/cmxcfkrjiv.mp4\n/kaggle/input/deepfake-detection-challenge/train_sample_videos/aczrgyricp.mp4\n/kaggle/input/deepfake-detection-challenge/train_sample_videos/dptrzdvwpg.mp4\n/kaggle/input/deepfake-detection-challenge/train_sample_videos/dsgpbgsrdm.mp4\n/kaggle/input/deepfake-detection-challenge/train_sample_videos/emfbhytfhc.mp4\n/kaggle/input/deepfake-detection-challenge/train_sample_videos/cdbsbdymzd.mp4\n/kaggle/input/deepfake-detection-challenge/train_sample_videos/acqfdwsrhi.mp4\n/kaggle/input/deepfake-detection-challenge/train_sample_videos/bkvetcojbt.mp4\n/kaggle/input/deepfake-detection-challenge/train_sample_videos/dnyvfblxpm.mp4\n/kaggle/input/deepfake-detection-challenge/train_sample_videos/duycddgtrl.mp4\n/kaggle/input/deepfake-detection-challenge/train_sample_videos/arkroixhey.mp4\n/kaggle/input/deepfake-detection-challenge/train_sample_videos/ctzmavwror.mp4\n/kaggle/input/deepfake-detection-challenge/train_sample_videos/altziddtxi.mp4\n/kaggle/input/deepfake-detection-challenge/train_sample_videos/aknbdpmgua.mp4\n/kaggle/input/deepfake-detection-challenge/train_sample_videos/efdyrflcpg.mp4\n/kaggle/input/deepfake-detection-challenge/train_sample_videos/dxbqjxrhin.mp4\n/kaggle/input/deepfake-detection-challenge/train_sample_videos/czkdanyadc.mp4\n/kaggle/input/deepfake-detection-challenge/train_sample_videos/ejkqesyvam.mp4\n/kaggle/input/deepfake-detection-challenge/train_sample_videos/dsdoseflas.mp4\n/kaggle/input/deepfake-detection-challenge/train_sample_videos/akvmwkdyuv.mp4\n/kaggle/input/deepfake-detection-challenge/train_sample_videos/dnexlwbcxq.mp4\n/kaggle/input/deepfake-detection-challenge/train_sample_videos/abofeumbvv.mp4\n/kaggle/input/deepfake-detection-challenge/train_sample_videos/dlrsbscitn.mp4\n/kaggle/input/deepfake-detection-challenge/train_sample_videos/alvgwypubw.mp4\n/kaggle/input/deepfake-detection-challenge/train_sample_videos/eoewqcpbgt.mp4\n/kaggle/input/deepfake-detection-challenge/train_sample_videos/btmsngnqhv.mp4\n/kaggle/input/deepfake-detection-challenge/train_sample_videos/apatcsqejh.mp4\n/kaggle/input/deepfake-detection-challenge/train_sample_videos/dakiztgtnw.mp4\n/kaggle/input/deepfake-detection-challenge/train_sample_videos/eiwopxzjfn.mp4\n/kaggle/input/deepfake-detection-challenge/train_sample_videos/andaxzscny.mp4\n/kaggle/input/deepfake-detection-challenge/train_sample_videos/bgvhtpzknn.mp4\n/kaggle/input/deepfake-detection-challenge/train_sample_videos/djvtbgwdcc.mp4\n/kaggle/input/deepfake-detection-challenge/train_sample_videos/blzydqdfem.mp4\n/kaggle/input/deepfake-detection-challenge/train_sample_videos/dbzpcjntve.mp4\n/kaggle/input/deepfake-detection-challenge/train_sample_videos/chviwxsfhg.mp4\n/kaggle/input/deepfake-detection-challenge/train_sample_videos/bmioepcpsx.mp4\n/kaggle/input/deepfake-detection-challenge/train_sample_videos/ddhfabwpuz.mp4\n/kaggle/input/deepfake-detection-challenge/train_sample_videos/bahdpoesir.mp4\n/kaggle/input/deepfake-detection-challenge/train_sample_videos/dptbnjnkdg.mp4\n/kaggle/input/deepfake-detection-challenge/train_sample_videos/alaijyygdv.mp4\n/kaggle/input/deepfake-detection-challenge/train_sample_videos/aelzhcnwgf.mp4\n/kaggle/input/deepfake-detection-challenge/train_sample_videos/crezycjqyk.mp4\n/kaggle/input/deepfake-detection-challenge/train_sample_videos/ehdkmxgtxh.mp4\n/kaggle/input/deepfake-detection-challenge/train_sample_videos/bejhvclboh.mp4\n/kaggle/input/deepfake-detection-challenge/train_sample_videos/erqgqacbqe.mp4\n/kaggle/input/deepfake-detection-challenge/train_sample_videos/anpuvshzoo.mp4\n/kaggle/input/deepfake-detection-challenge/train_sample_videos/emgjphonqb.mp4\n/kaggle/input/deepfake-detection-challenge/train_sample_videos/cqrskwiqng.mp4\n/kaggle/input/deepfake-detection-challenge/train_sample_videos/akxoopqjqz.mp4\n/kaggle/input/deepfake-detection-challenge/train_sample_videos/bdnaqemxmr.mp4\n/kaggle/input/deepfake-detection-challenge/train_sample_videos/dlpoieqvfb.mp4\n/kaggle/input/deepfake-detection-challenge/train_sample_videos/dofusvhnib.mp4\n/kaggle/input/deepfake-detection-challenge/train_sample_videos/abqwwspghj.mp4\n/kaggle/input/deepfake-detection-challenge/train_sample_videos/cyxlcuyznd.mp4\n/kaggle/input/deepfake-detection-challenge/train_sample_videos/bseamdrpbj.mp4\n/kaggle/input/deepfake-detection-challenge/train_sample_videos/acxwigylke.mp4\n/kaggle/input/deepfake-detection-challenge/train_sample_videos/atxvxouljq.mp4\n/kaggle/input/deepfake-detection-challenge/train_sample_videos/bqnymlsayl.mp4\n/kaggle/input/deepfake-detection-challenge/train_sample_videos/drcyabprvt.mp4\n/kaggle/input/deepfake-detection-challenge/train_sample_videos/elvvackpjh.mp4\n/kaggle/input/deepfake-detection-challenge/train_sample_videos/drtbksnpol.mp4\n/kaggle/input/deepfake-detection-challenge/train_sample_videos/eudeqjhdfd.mp4\n/kaggle/input/deepfake-detection-challenge/train_sample_videos/ahdbuwqxit.mp4\n/kaggle/input/deepfake-detection-challenge/train_sample_videos/dgmevclvzy.mp4\n/kaggle/input/deepfake-detection-challenge/train_sample_videos/dvakowbgbt.mp4\n/kaggle/input/deepfake-detection-challenge/train_sample_videos/dkhlttuvmx.mp4\n/kaggle/input/deepfake-detection-challenge/train_sample_videos/djxdyjopjd.mp4\n/kaggle/input/deepfake-detection-challenge/train_sample_videos/aapnvogymq.mp4\n/kaggle/input/deepfake-detection-challenge/train_sample_videos/aufmsmnoye.mp4\n/kaggle/input/deepfake-detection-challenge/train_sample_videos/dkdwxmtpuo.mp4\n/kaggle/input/deepfake-detection-challenge/train_sample_videos/bulkxhhknf.mp4\n/kaggle/input/deepfake-detection-challenge/train_sample_videos/btunxncpjh.mp4\n/kaggle/input/deepfake-detection-challenge/train_sample_videos/acxnxvbsxk.mp4\n/kaggle/input/deepfake-detection-challenge/train_sample_videos/dhcselezer.mp4\n/kaggle/input/deepfake-detection-challenge/train_sample_videos/dzqwgqewhu.mp4\n/kaggle/input/deepfake-detection-challenge/train_sample_videos/cyclgfjdrv.mp4\n/kaggle/input/deepfake-detection-challenge/train_sample_videos/bntlodcfeg.mp4\n/kaggle/input/deepfake-detection-challenge/train_sample_videos/cuzrgrbvil.mp4\n/kaggle/input/deepfake-detection-challenge/train_sample_videos/awhmfnnjih.mp4\n/kaggle/input/deepfake-detection-challenge/train_sample_videos/axoygtekut.mp4\n/kaggle/input/deepfake-detection-challenge/train_sample_videos/dcamvmuors.mp4\n/kaggle/input/deepfake-detection-challenge/train_sample_videos/bctvsmddgq.mp4\n/kaggle/input/deepfake-detection-challenge/train_sample_videos/emaalmsonj.mp4\n/kaggle/input/deepfake-detection-challenge/train_sample_videos/augtsuxpzc.mp4\n/kaggle/input/deepfake-detection-challenge/train_sample_videos/esnntzzajv.mp4\n/kaggle/input/deepfake-detection-challenge/train_sample_videos/aklqzsddfl.mp4\n/kaggle/input/deepfake-detection-challenge/train_sample_videos/cwsbspfzck.mp4\n/kaggle/input/deepfake-detection-challenge/train_sample_videos/cppdvdejkc.mp4\n/kaggle/input/deepfake-detection-challenge/train_sample_videos/apgjqzkoma.mp4\n/kaggle/input/deepfake-detection-challenge/train_sample_videos/brwrlczjvi.mp4\n/kaggle/input/deepfake-detection-challenge/train_sample_videos/ehieahnhte.mp4\n/kaggle/input/deepfake-detection-challenge/train_sample_videos/dxuliowugt.mp4\n/kaggle/input/deepfake-detection-challenge/train_sample_videos/dfbpceeaox.mp4\n/kaggle/input/deepfake-detection-challenge/train_sample_videos/cthdnahrkh.mp4\n/kaggle/input/deepfake-detection-challenge/train_sample_videos/eprybmbpba.mp4\n/kaggle/input/deepfake-detection-challenge/train_sample_videos/asmpfjfzif.mp4\n/kaggle/input/deepfake-detection-challenge/train_sample_videos/bxzakyopjf.mp4\n/kaggle/input/deepfake-detection-challenge/train_sample_videos/agrmhtjdlk.mp4\n/kaggle/input/deepfake-detection-challenge/train_sample_videos/eebrkicpry.mp4\n/kaggle/input/deepfake-detection-challenge/train_sample_videos/bqeiblbxtl.mp4\n/kaggle/input/deepfake-detection-challenge/train_sample_videos/degpbqvcay.mp4\n/kaggle/input/deepfake-detection-challenge/train_sample_videos/adylbeequz.mp4\n/kaggle/input/deepfake-detection-challenge/train_sample_videos/dvumqqhoac.mp4\n/kaggle/input/deepfake-detection-challenge/train_sample_videos/bweezhfpzp.mp4\n/kaggle/input/deepfake-detection-challenge/train_sample_videos/ekcrtigpab.mp4\n/kaggle/input/deepfake-detection-challenge/train_sample_videos/bzmdrafeex.mp4\n/kaggle/input/deepfake-detection-challenge/train_sample_videos/eebserckhh.mp4\n/kaggle/input/deepfake-detection-challenge/train_sample_videos/alninxcyhg.mp4\n/kaggle/input/deepfake-detection-challenge/train_sample_videos/bbhpvrmbse.mp4\n/kaggle/input/deepfake-detection-challenge/train_sample_videos/aqpnvjhuzw.mp4\n/kaggle/input/deepfake-detection-challenge/train_sample_videos/ehfiekigla.mp4\n/kaggle/input/deepfake-detection-challenge/train_sample_videos/eukvucdetx.mp4\n/kaggle/input/deepfake-detection-challenge/train_sample_videos/eqnoqyfquo.mp4\n/kaggle/input/deepfake-detection-challenge/train_sample_videos/ecwaxgutkc.mp4\n/kaggle/input/deepfake-detection-challenge/train_sample_videos/dkuayagnmc.mp4\n/kaggle/input/deepfake-detection-challenge/train_sample_videos/dcuiiorugd.mp4\n/kaggle/input/deepfake-detection-challenge/train_sample_videos/agdkmztvby.mp4\n/kaggle/input/deepfake-detection-challenge/train_sample_videos/atvmxvwyns.mp4\n/kaggle/input/deepfake-detection-challenge/train_sample_videos/byqzyxifza.mp4\n/kaggle/input/deepfake-detection-challenge/train_sample_videos/ckkuyewywx.mp4\n/kaggle/input/deepfake-detection-challenge/train_sample_videos/bndybcqhfr.mp4\n/kaggle/input/deepfake-detection-challenge/train_sample_videos/aybgughjxh.mp4\n/kaggle/input/deepfake-detection-challenge/train_sample_videos/cwrtyzndpx.mp4\n/kaggle/input/deepfake-detection-challenge/train_sample_videos/ecnihjlfyt.mp4\n/kaggle/input/deepfake-detection-challenge/train_sample_videos/btiysiskpf.mp4\n/kaggle/input/deepfake-detection-challenge/train_sample_videos/bkwxhglwct.mp4\n/kaggle/input/deepfake-detection-challenge/train_sample_videos/avtycwsgyb.mp4\n/kaggle/input/deepfake-detection-challenge/train_sample_videos/caifxvsozs.mp4\n/kaggle/input/deepfake-detection-challenge/train_sample_videos/clihsshdkq.mp4\n/kaggle/input/deepfake-detection-challenge/train_sample_videos/cxrfacemmq.mp4\n/kaggle/input/deepfake-detection-challenge/train_sample_videos/bhsluedavd.mp4\n/kaggle/input/deepfake-detection-challenge/train_sample_videos/cvaksbpssm.mp4\n/kaggle/input/deepfake-detection-challenge/train_sample_videos/dqnyszdong.mp4\n/kaggle/input/deepfake-detection-challenge/train_sample_videos/bofqajtwve.mp4\n/kaggle/input/deepfake-detection-challenge/train_sample_videos/aladcziidp.mp4\n/kaggle/input/deepfake-detection-challenge/train_sample_videos/chtapglbcj.mp4\n/kaggle/input/deepfake-detection-challenge/train_sample_videos/ccfoszqabv.mp4\n/kaggle/input/deepfake-detection-challenge/train_sample_videos/bwhlgysghg.mp4\n/kaggle/input/deepfake-detection-challenge/train_sample_videos/egbbcxcuqy.mp4\n/kaggle/input/deepfake-detection-challenge/train_sample_videos/ddpvuimigj.mp4\n/kaggle/input/deepfake-detection-challenge/train_sample_videos/ahbweevwpv.mp4\n/kaggle/input/deepfake-detection-challenge/train_sample_videos/axwgcsyphv.mp4\n/kaggle/input/deepfake-detection-challenge/train_sample_videos/bhpwpydzpo.mp4\n/kaggle/input/deepfake-detection-challenge/train_sample_videos/bqtuuwzdtr.mp4\n/kaggle/input/deepfake-detection-challenge/train_sample_videos/beyebyhrph.mp4\n/kaggle/input/deepfake-detection-challenge/train_sample_videos/eeyhxisdfh.mp4\n/kaggle/input/deepfake-detection-challenge/train_sample_videos/avywawptfc.mp4\n/kaggle/input/deepfake-detection-challenge/train_sample_videos/brvqtabyxj.mp4\n/kaggle/input/deepfake-detection-challenge/train_sample_videos/cqhngvpgyi.mp4\n/kaggle/input/deepfake-detection-challenge/train_sample_videos/bzythlfnhq.mp4\n/kaggle/input/deepfake-detection-challenge/train_sample_videos/dbzcqmxzaj.mp4\n/kaggle/input/deepfake-detection-challenge/train_sample_videos/crktehraph.mp4\n/kaggle/input/deepfake-detection-challenge/train_sample_videos/bchnbulevv.mp4\n/kaggle/input/deepfake-detection-challenge/train_sample_videos/aorjvbyxhw.mp4\n/kaggle/input/deepfake-detection-challenge/train_sample_videos/btjlfpzbdu.mp4\n/kaggle/input/deepfake-detection-challenge/train_sample_videos/cbltdtxglo.mp4\n/kaggle/input/deepfake-detection-challenge/train_sample_videos/cqfugiqupm.mp4\n/kaggle/input/deepfake-detection-challenge/train_sample_videos/diopzaywor.mp4\n/kaggle/input/deepfake-detection-challenge/train_sample_videos/avvdgsennp.mp4\n/kaggle/input/deepfake-detection-challenge/train_sample_videos/bmhvktyiwp.mp4\n/kaggle/input/deepfake-detection-challenge/train_sample_videos/eckvhdusax.mp4\n/kaggle/input/deepfake-detection-challenge/train_sample_videos/awnwkrqibf.mp4\n/kaggle/input/deepfake-detection-challenge/train_sample_videos/byofowlkki.mp4\n/kaggle/input/deepfake-detection-challenge/train_sample_videos/cglxirfaey.mp4\n/kaggle/input/deepfake-detection-challenge/train_sample_videos/dzyuwjkjui.mp4\n/kaggle/input/deepfake-detection-challenge/train_sample_videos/ciyoudyhly.mp4\n/kaggle/input/deepfake-detection-challenge/train_sample_videos/bpxckdzddv.mp4\n/kaggle/input/deepfake-detection-challenge/train_sample_videos/dnhvalzvrt.mp4\n/kaggle/input/deepfake-detection-challenge/train_sample_videos/bgmlwsoamc.mp4\n/kaggle/input/deepfake-detection-challenge/train_sample_videos/ddepeddixj.mp4\n/kaggle/input/deepfake-detection-challenge/train_sample_videos/eajlrktemq.mp4\n/kaggle/input/deepfake-detection-challenge/train_sample_videos/egghxjjmfg.mp4\n/kaggle/input/deepfake-detection-challenge/train_sample_videos/bjkmjilrxp.mp4\n/kaggle/input/deepfake-detection-challenge/train_sample_videos/metadata.json\n/kaggle/input/deepfake-detection-challenge/train_sample_videos/ckbdwedgmc.mp4\n/kaggle/input/deepfake-detection-challenge/train_sample_videos/dozyddhild.mp4\n/kaggle/input/deepfake-detection-challenge/train_sample_videos/dzwkmcwkwl.mp4\n/kaggle/input/deepfake-detection-challenge/train_sample_videos/bbvgxeczei.mp4\n/kaggle/input/deepfake-detection-challenge/train_sample_videos/ajqslcypsw.mp4\n/kaggle/input/deepfake-detection-challenge/train_sample_videos/aagfhgtpmv.mp4\n/kaggle/input/deepfake-detection-challenge/train_sample_videos/dhcndnuwta.mp4\n/kaggle/input/deepfake-detection-challenge/train_sample_videos/abarnvbtwb.mp4\n/kaggle/input/deepfake-detection-challenge/train_sample_videos/erlvuvjsjf.mp4\n/kaggle/input/deepfake-detection-challenge/train_sample_videos/axczxisdtb.mp4\n/kaggle/input/deepfake-detection-challenge/train_sample_videos/bdgipnyobr.mp4\n/kaggle/input/deepfake-detection-challenge/train_sample_videos/aettqgevhz.mp4\n/kaggle/input/deepfake-detection-challenge/train_sample_videos/dbnygxtwek.mp4\n/kaggle/input/deepfake-detection-challenge/train_sample_videos/dkwjwbwgey.mp4\n/kaggle/input/deepfake-detection-challenge/train_sample_videos/diqraixiov.mp4\n/kaggle/input/deepfake-detection-challenge/train_sample_videos/ekhacizpah.mp4\n/kaggle/input/deepfake-detection-challenge/train_sample_videos/dhoqofwoxa.mp4\n/kaggle/input/deepfake-detection-challenge/train_sample_videos/bgwmmujlmc.mp4\n/kaggle/input/deepfake-detection-challenge/train_sample_videos/cfxkpiweqt.mp4\n/kaggle/input/deepfake-detection-challenge/train_sample_videos/dgxrqjdomn.mp4\n/kaggle/input/deepfake-detection-challenge/train_sample_videos/bvzjkezkms.mp4\n/kaggle/input/deepfake-detection-challenge/train_sample_videos/bqkdbcqjvb.mp4\n/kaggle/input/deepfake-detection-challenge/train_sample_videos/cprhtltsjp.mp4\n/kaggle/input/deepfake-detection-challenge/train_sample_videos/atkdltyyen.mp4\n/kaggle/input/deepfake-detection-challenge/train_sample_videos/ebeknhudxq.mp4\n/kaggle/input/deepfake-detection-challenge/train_sample_videos/dubiroskqn.mp4\n/kaggle/input/deepfake-detection-challenge/train_sample_videos/bghphrsfxf.mp4\n/kaggle/input/deepfake-detection-challenge/train_sample_videos/ahfazfbntc.mp4\n/kaggle/input/deepfake-detection-challenge/train_sample_videos/btugrnoton.mp4\n/kaggle/input/deepfake-detection-challenge/train_sample_videos/caqbrkogkb.mp4\n/kaggle/input/deepfake-detection-challenge/train_sample_videos/aybumesmpk.mp4\n/kaggle/input/deepfake-detection-challenge/train_sample_videos/cnilkgvfei.mp4\n/kaggle/input/deepfake-detection-challenge/train_sample_videos/deywhkarol.mp4\n/kaggle/input/deepfake-detection-challenge/train_sample_videos/cwwandrkus.mp4\n/kaggle/input/deepfake-detection-challenge/train_sample_videos/cttqtsjvgn.mp4\n/kaggle/input/deepfake-detection-challenge/train_sample_videos/cffffbcywc.mp4\n/kaggle/input/deepfake-detection-challenge/train_sample_videos/bwipwzzxxu.mp4\n/kaggle/input/deepfake-detection-challenge/train_sample_videos/avfitoutyn.mp4\n/kaggle/input/deepfake-detection-challenge/train_sample_videos/etohcvnzbj.mp4\n/kaggle/input/deepfake-detection-challenge/train_sample_videos/avssvvsdhz.mp4\n/kaggle/input/deepfake-detection-challenge/train_sample_videos/epymyyiblu.mp4\n/kaggle/input/deepfake-detection-challenge/train_sample_videos/cycacemkmt.mp4\n/kaggle/input/deepfake-detection-challenge/train_sample_videos/cepxysienc.mp4\n/kaggle/input/deepfake-detection-challenge/train_sample_videos/clrycekyst.mp4\n/kaggle/input/deepfake-detection-challenge/train_sample_videos/bhaaboftbc.mp4\n/kaggle/input/deepfake-detection-challenge/train_sample_videos/etmcruaihe.mp4\n/kaggle/input/deepfake-detection-challenge/train_sample_videos/ebchwmwayp.mp4\n/kaggle/input/deepfake-detection-challenge/train_sample_videos/bbhtdfuqxq.mp4\n/kaggle/input/deepfake-detection-challenge/train_sample_videos/aipfdnwpoo.mp4\n/kaggle/input/deepfake-detection-challenge/train_sample_videos/cdphtzqrvp.mp4\n/kaggle/input/deepfake-detection-challenge/train_sample_videos/eqvuznuwsa.mp4\n/kaggle/input/deepfake-detection-challenge/train_sample_videos/eahlqmfvtj.mp4\n/kaggle/input/deepfake-detection-challenge/train_sample_videos/avnqydkqjj.mp4\n/kaggle/input/deepfake-detection-challenge/train_sample_videos/aslsvlvpth.mp4\n/kaggle/input/deepfake-detection-challenge/train_sample_videos/dakqwktlbi.mp4\n/kaggle/input/deepfake-detection-challenge/train_sample_videos/bgaogsjehq.mp4\n/kaggle/input/deepfake-detection-challenge/train_sample_videos/aneclqfpbt.mp4\n/kaggle/input/deepfake-detection-challenge/train_sample_videos/atzdznmder.mp4\n/kaggle/input/deepfake-detection-challenge/train_sample_videos/aytzyidmgs.mp4\n/kaggle/input/deepfake-detection-challenge/train_sample_videos/dafhtipaml.mp4\n/kaggle/input/deepfake-detection-challenge/train_sample_videos/dhxctgyoqj.mp4\n/kaggle/input/deepfake-detection-challenge/train_sample_videos/byfenovjnf.mp4\n/kaggle/input/deepfake-detection-challenge/train_sample_videos/cxttmymlbn.mp4\n/kaggle/input/deepfake-detection-challenge/train_sample_videos/dgzklxjmix.mp4\n/kaggle/input/deepfake-detection-challenge/train_sample_videos/dzieklokdr.mp4\n/kaggle/input/deepfake-detection-challenge/train_sample_videos/bsqgziaylx.mp4\n/kaggle/input/deepfake-detection-challenge/train_sample_videos/apogckdfrz.mp4\n/kaggle/input/deepfake-detection-challenge/train_sample_videos/ehtdtkmmli.mp4\n/kaggle/input/deepfake-detection-challenge/train_sample_videos/ayqvfdhslr.mp4\n/kaggle/input/deepfake-detection-challenge/train_sample_videos/avgiuextiz.mp4\n/kaggle/input/deepfake-detection-challenge/train_sample_videos/dtocdfbwca.mp4\n/kaggle/input/deepfake-detection-challenge/train_sample_videos/eixwxvxbbn.mp4\n/kaggle/input/deepfake-detection-challenge/train_sample_videos/dkzvdrzcnr.mp4\n/kaggle/input/deepfake-detection-challenge/train_sample_videos/bguwlyazau.mp4\n/kaggle/input/deepfake-detection-challenge/train_sample_videos/esgftaficx.mp4\n/kaggle/input/deepfake-detection-challenge/train_sample_videos/eekozbeafq.mp4\n/kaggle/input/deepfake-detection-challenge/train_sample_videos/byijojkdba.mp4\n/kaggle/input/deepfake-detection-challenge/train_sample_videos/eejswgycjc.mp4\n/kaggle/input/deepfake-detection-challenge/train_sample_videos/cobjrlugvp.mp4\n/kaggle/input/deepfake-detection-challenge/train_sample_videos/dqswpjoepo.mp4\n/kaggle/input/deepfake-detection-challenge/train_sample_videos/ahqqqilsxt.mp4\n/kaggle/input/deepfake-detection-challenge/train_sample_videos/axntxmycwd.mp4\n/kaggle/input/deepfake-detection-challenge/train_sample_videos/ctpqeykqdp.mp4\n/kaggle/input/deepfake-detection-challenge/train_sample_videos/arrhsnjqku.mp4\n/kaggle/input/deepfake-detection-challenge/train_sample_videos/bmbbkwmxqj.mp4\n/kaggle/input/deepfake-detection-challenge/train_sample_videos/avibnnhwhp.mp4\n/kaggle/input/deepfake-detection-challenge/train_sample_videos/ckjaibzfxa.mp4\n/kaggle/input/deepfake-detection-challenge/train_sample_videos/cwqlvzefpg.mp4\n/kaggle/input/deepfake-detection-challenge/train_sample_videos/btohlidmru.mp4\n/kaggle/input/deepfake-detection-challenge/train_sample_videos/efwfxwwlbw.mp4\n/kaggle/input/deepfake-detection-challenge/train_sample_videos/dhjmzhrcav.mp4\n/kaggle/input/deepfake-detection-challenge/train_sample_videos/ekkdjkirzq.mp4\n/kaggle/input/deepfake-detection-challenge/train_sample_videos/byyqectxqa.mp4\n/kaggle/input/deepfake-detection-challenge/train_sample_videos/eczrseixwq.mp4\n/kaggle/input/deepfake-detection-challenge/train_sample_videos/bqhtpqmmqp.mp4\n/kaggle/input/deepfake-detection-challenge/train_sample_videos/coadfnerlk.mp4\n/kaggle/input/deepfake-detection-challenge/train_sample_videos/bmjmjmbglm.mp4\n/kaggle/input/deepfake-detection-challenge/train_sample_videos/ebebgmtlcu.mp4\n/kaggle/input/deepfake-detection-challenge/train_sample_videos/covdcysmbi.mp4\n/kaggle/input/deepfake-detection-challenge/train_sample_videos/arlmiizoob.mp4\n/kaggle/input/deepfake-detection-challenge/train_sample_videos/dtbpmdqvao.mp4\n/kaggle/input/deepfake-detection-challenge/train_sample_videos/bggsurpgpr.mp4\n/kaggle/input/deepfake-detection-challenge/train_sample_videos/diomeixhrg.mp4\n/kaggle/input/deepfake-detection-challenge/train_sample_videos/cdaxixbosp.mp4\n/kaggle/input/deepfake-detection-challenge/train_sample_videos/esyrimvzsa.mp4\n/kaggle/input/deepfake-detection-challenge/train_sample_videos/cbbibzcoih.mp4\n/kaggle/input/deepfake-detection-challenge/train_sample_videos/blpchvmhxx.mp4\n/kaggle/input/deepfake-detection-challenge/train_sample_videos/bffwsjxghk.mp4\n/kaggle/input/deepfake-detection-challenge/train_sample_videos/diuzrpqjli.mp4\n/kaggle/input/deepfake-detection-challenge/train_sample_videos/esxrvsgpvb.mp4\n/kaggle/input/deepfake-detection-challenge/train_sample_videos/awukslzjra.mp4\n/kaggle/input/deepfake-detection-challenge/train_sample_videos/bourlmzsio.mp4\n/kaggle/input/deepfake-detection-challenge/train_sample_videos/chzieimrwu.mp4\n/kaggle/input/deepfake-detection-challenge/train_sample_videos/byunigvnay.mp4\n/kaggle/input/deepfake-detection-challenge/train_sample_videos/boovltmuwi.mp4\n/kaggle/input/deepfake-detection-challenge/train_sample_videos/bpwzipqtxf.mp4\n/kaggle/input/deepfake-detection-challenge/train_sample_videos/ellavthztb.mp4\n/kaggle/input/deepfake-detection-challenge/train_sample_videos/bopqhhalml.mp4\n/kaggle/input/deepfake-detection-challenge/train_sample_videos/azsmewqghg.mp4\n/kaggle/input/deepfake-detection-challenge/train_sample_videos/adhsbajydo.mp4\n/kaggle/input/deepfake-detection-challenge/train_sample_videos/dkrvorliqc.mp4\n/kaggle/input/deepfake-detection-challenge/train_sample_videos/dulanfulol.mp4\n/kaggle/input/deepfake-detection-challenge/train_sample_videos/bjjbwsqjir.mp4\n/kaggle/input/deepfake-detection-challenge/train_sample_videos/ecuvtoltue.mp4\n/kaggle/input/deepfake-detection-challenge/train_sample_videos/benmsfzfaz.mp4\n/kaggle/input/deepfake-detection-challenge/train_sample_videos/bhbdugnurr.mp4\n/kaggle/input/deepfake-detection-challenge/train_sample_videos/btxlttbpkj.mp4\n/kaggle/input/deepfake-detection-challenge/train_sample_videos/cxfujlvsuw.mp4\n/kaggle/input/deepfake-detection-challenge/train_sample_videos/eqjscdagiv.mp4\n/kaggle/input/deepfake-detection-challenge/train_sample_videos/ecujsjhscd.mp4\n/kaggle/input/deepfake-detection-challenge/train_sample_videos/bwuwstvsbw.mp4\n/kaggle/input/deepfake-detection-challenge/train_sample_videos/brhalypwoo.mp4\n/kaggle/input/deepfake-detection-challenge/train_sample_videos/avmjormvsx.mp4\n/kaggle/input/deepfake-detection-challenge/train_sample_videos/dqzreruvje.mp4\n/kaggle/input/deepfake-detection-challenge/train_sample_videos/atyntldecu.mp4\n/kaggle/input/deepfake-detection-challenge/train_sample_videos/asaxgevnnp.mp4\n/kaggle/input/deepfake-detection-challenge/train_sample_videos/axwovszumc.mp4\n/kaggle/input/deepfake-detection-challenge/train_sample_videos/ehccixxzoe.mp4\n/kaggle/input/deepfake-detection-challenge/train_sample_videos/curpwogllm.mp4\n/kaggle/input/deepfake-detection-challenge/train_sample_videos/cfyduhpbps.mp4\n/kaggle/input/deepfake-detection-challenge/train_sample_videos/dqqtjcryjv.mp4\n/kaggle/input/deepfake-detection-challenge/train_sample_videos/cettndmvzl.mp4\n/kaggle/input/deepfake-detection-challenge/train_sample_videos/errocgcham.mp4\n/kaggle/input/deepfake-detection-challenge/train_sample_videos/agqphdxmwt.mp4\n/kaggle/input/deepfake-detection-challenge/train_sample_videos/crzfebnfgb.mp4\n/kaggle/input/deepfake-detection-challenge/train_sample_videos/ceymbecxnj.mp4\n/kaggle/input/deepfake-detection-challenge/train_sample_videos/akzbnazxtz.mp4\n/kaggle/input/deepfake-detection-challenge/train_sample_videos/bddjdhzfze.mp4\n/kaggle/input/deepfake-detection-challenge/train_sample_videos/bpapbctoao.mp4\n/kaggle/input/deepfake-detection-challenge/train_sample_videos/cmbzllswnl.mp4\n/kaggle/input/deepfake-detection-challenge/train_sample_videos/duzuusuajr.mp4\n/kaggle/input/deepfake-detection-challenge/train_sample_videos/ddqccgmtka.mp4\n/kaggle/input/deepfake-detection-challenge/train_sample_videos/ebkzwjgjhq.mp4\n/kaggle/input/deepfake-detection-challenge/train_sample_videos/aknmpoonls.mp4\n/kaggle/input/deepfake-detection-challenge/train_sample_videos/eiriyukqqy.mp4\n/kaggle/input/deepfake-detection-challenge/train_sample_videos/bjsmaqefoi.mp4\n/kaggle/input/deepfake-detection-challenge/train_sample_videos/btjwbtsgln.mp4\n/kaggle/input/deepfake-detection-challenge/train_sample_videos/dhkwmjxwrn.mp4\n/kaggle/input/deepfake-detection-challenge/train_sample_videos/dsndhujjjb.mp4\n/kaggle/input/deepfake-detection-challenge/train_sample_videos/aelfnikyqj.mp4\n/kaggle/input/deepfake-detection-challenge/train_sample_videos/ddjggcasdw.mp4\n/kaggle/input/deepfake-detection-challenge/train_sample_videos/bqqpbzjgup.mp4\n/kaggle/input/deepfake-detection-challenge/train_sample_videos/dhevettufk.mp4\n/kaggle/input/deepfake-detection-challenge/train_sample_videos/bmjzrlszhi.mp4\n/kaggle/input/deepfake-detection-challenge/train_sample_videos/duvyaxbzvp.mp4\n/kaggle/input/deepfake-detection-challenge/train_sample_videos/cpjxareypw.mp4\n/kaggle/input/deepfake-detection-challenge/train_sample_videos/esckbnkkvb.mp4\n/kaggle/input/deepfake-detection-challenge/train_sample_videos/cferslmfwh.mp4\n/kaggle/input/deepfake-detection-challenge/train_sample_videos/doanjploai.mp4\n/kaggle/input/deepfake-detection-challenge/train_sample_videos/eggbjzxnmg.mp4\n/kaggle/input/deepfake-detection-challenge/train_sample_videos/drgjzlxzxj.mp4\n/kaggle/input/deepfake-detection-challenge/train_sample_videos/dbhoxkblzx.mp4\n/kaggle/input/deepfake-detection-challenge/train_sample_videos/esyhwdfnxs.mp4\n/kaggle/input/deepfake-detection-challenge/train_sample_videos/eepezmygaq.mp4\n/kaggle/input/deepfake-detection-challenge/train_sample_videos/etdcqxabww.mp4\n/kaggle/input/deepfake-detection-challenge/train_sample_videos/bmehkyanbj.mp4\n/kaggle/input/deepfake-detection-challenge/train_sample_videos/azpuxunqyo.mp4\n/kaggle/input/deepfake-detection-challenge/train_sample_videos/ccmonzqfrz.mp4\n/kaggle/input/deepfake-detection-challenge/train_sample_videos/bnjcdrfuov.mp4\n/kaggle/input/deepfake-detection-challenge/train_sample_videos/cizlkenljw.mp4\n/kaggle/input/deepfake-detection-challenge/train_sample_videos/bdbhekrrwo.mp4\n/kaggle/input/deepfake-detection-challenge/train_sample_videos/bdxuhamuqx.mp4\n/kaggle/input/deepfake-detection-challenge/train_sample_videos/acifjvzvpm.mp4\n/kaggle/input/deepfake-detection-challenge/train_sample_videos/dzvyfiarrq.mp4\n/kaggle/input/deepfake-detection-challenge/train_sample_videos/ebywfrmhtd.mp4\n/kaggle/input/deepfake-detection-challenge/train_sample_videos/etejaapnxh.mp4\n/kaggle/input/deepfake-detection-challenge/train_sample_videos/beboztfcme.mp4\n/kaggle/input/deepfake-detection-challenge/train_sample_videos/bsfmwclnqy.mp4\n/kaggle/input/deepfake-detection-challenge/train_sample_videos/cyboodqqyr.mp4\n/kaggle/input/deepfake-detection-challenge/train_sample_videos/bnbuonyoje.mp4\n/kaggle/input/deepfake-detection-challenge/train_sample_videos/ehevsxtecd.mp4\n/kaggle/input/deepfake-detection-challenge/train_sample_videos/dbhrpizyeq.mp4\n/kaggle/input/deepfake-detection-challenge/train_sample_videos/dqppxmoqdl.mp4\n/kaggle/input/deepfake-detection-challenge/train_sample_videos/edyncaijwx.mp4\n/kaggle/input/deepfake-detection-challenge/train_sample_videos/dsjbknkujw.mp4\n/kaggle/input/deepfake-detection-challenge/train_sample_videos/amowujxmzc.mp4\n/kaggle/input/deepfake-detection-challenge/train_sample_videos/aevrfsexku.mp4\n/kaggle/input/deepfake-detection-challenge/train_sample_videos/deyyistcrd.mp4\n/kaggle/input/deepfake-detection-challenge/train_sample_videos/asdpeebotb.mp4\n/kaggle/input/deepfake-detection-challenge/train_sample_videos/bqdjzqhcft.mp4\n/kaggle/input/deepfake-detection-challenge/train_sample_videos/dxuplhwvig.mp4\n/kaggle/input/deepfake-detection-challenge/train_sample_videos/ajwpjhrbcv.mp4\n/kaggle/input/deepfake-detection-challenge/train_sample_videos/dbtbbhakdv.mp4\n/kaggle/input/deepfake-detection-challenge/train_sample_videos/bvgwelbeof.mp4\n/kaggle/input/deepfake-detection-challenge/train_sample_videos/bydaidkpdp.mp4\n/kaggle/input/deepfake-detection-challenge/train_sample_videos/bilnggbxgu.mp4\n/kaggle/input/deepfake-detection-challenge/train_sample_videos/cknyxaqouy.mp4\n/kaggle/input/deepfake-detection-challenge/train_sample_videos/cgvrgibpfo.mp4\n/kaggle/input/deepfake-detection-challenge/train_sample_videos/czmqpxrqoh.mp4\n/kaggle/input/deepfake-detection-challenge/train_sample_videos/adohikbdaz.mp4\n/kaggle/input/deepfake-detection-challenge/train_sample_videos/ehbnclaukr.mp4\n/kaggle/input/deepfake-detection-challenge/train_sample_videos/czfunozvwp.mp4\n/kaggle/input/deepfake-detection-challenge/train_sample_videos/djvutyvaio.mp4\n/kaggle/input/deepfake-detection-challenge/train_sample_videos/ensyyivobf.mp4\n/kaggle/input/deepfake-detection-challenge/train_sample_videos/bkmdzhfzfh.mp4\n/kaggle/input/deepfake-detection-challenge/train_sample_videos/amaivqofda.mp4\n/kaggle/input/deepfake-detection-challenge/train_sample_videos/cdyakrxkia.mp4\n/kaggle/input/deepfake-detection-challenge/train_sample_videos/cksanfsjhc.mp4\n/kaggle/input/deepfake-detection-challenge/train_sample_videos/drsakwyvqv.mp4\n",
          "output_type": "stream"
        }
      ]
    },
    {
      "cell_type": "markdown",
      "source": [
        "!pip install dlib"
      ],
      "metadata": {
        "execution": {
          "iopub.status.busy": "2022-03-28T04:16:29.973807Z",
          "iopub.execute_input": "2022-03-28T04:16:29.974056Z"
        },
        "id": "cDsLM4DCmwG5"
      }
    },
    {
      "cell_type": "code",
      "source": [
        "pip install dlib==19.22.0"
      ],
      "metadata": {
        "execution": {
          "iopub.status.busy": "2024-05-16T21:06:45.719456Z",
          "iopub.execute_input": "2024-05-16T21:06:45.71973Z",
          "iopub.status.idle": "2024-05-16T21:13:25.461014Z",
          "shell.execute_reply.started": "2024-05-16T21:06:45.719678Z",
          "shell.execute_reply": "2024-05-16T21:13:25.459862Z"
        },
        "trusted": true,
        "id": "j1Xbmyo4mwG6",
        "outputId": "b918bd63-563b-4840-f9d0-89b8d2d11ebb"
      },
      "execution_count": null,
      "outputs": [
        {
          "name": "stdout",
          "text": "Collecting dlib==19.22.0\n\u001b[?25l  Downloading https://files.pythonhosted.org/packages/11/93/ec41d6ef7e769977aa08e49441c52276da27859f12dcbf1c6deb96ce5e9f/dlib-19.22.0.tar.gz (7.4MB)\n\u001b[K     |████████████████████████████████| 7.4MB 4.4MB/s eta 0:00:01\n\u001b[?25hBuilding wheels for collected packages: dlib\n  Building wheel for dlib (setup.py) ... \u001b[?25ldone\n\u001b[?25h  Created wheel for dlib: filename=dlib-19.22.0-cp36-cp36m-linux_x86_64.whl size=4288603 sha256=cadc6c2c61e75baa8b59ff0569c889778ea54f6134b288a91b442ca1ad8f4159\n  Stored in directory: /root/.cache/pip/wheels/bd/46/7c/deeb33803394006488f2378a9adeae08c65c9560f27a85fbce\nSuccessfully built dlib\nInstalling collected packages: dlib\nSuccessfully installed dlib-19.22.0\nNote: you may need to restart the kernel to use updated packages.\n",
          "output_type": "stream"
        }
      ]
    },
    {
      "cell_type": "code",
      "source": [
        "import dlib\n",
        "import cv2\n",
        "import os\n",
        "import re\n",
        "import json\n",
        "from pylab import *\n",
        "from PIL import Image, ImageChops, ImageEnhance"
      ],
      "metadata": {
        "execution": {
          "iopub.status.busy": "2024-05-16T21:18:17.273567Z",
          "iopub.execute_input": "2024-05-16T21:18:17.273917Z",
          "iopub.status.idle": "2024-05-16T21:18:17.279364Z",
          "shell.execute_reply.started": "2024-05-16T21:18:17.273866Z",
          "shell.execute_reply": "2024-05-16T21:18:17.278214Z"
        },
        "trusted": true,
        "id": "kl0wRNCImwG6"
      },
      "execution_count": null,
      "outputs": []
    },
    {
      "cell_type": "code",
      "source": [
        "#os.mkdir('/kaggle/working/dataset')\n",
        "os.mkdir('/kaggle/working/dataset/real')\n",
        "os.mkdir('/kaggle/working/dataset/fake')"
      ],
      "metadata": {
        "execution": {
          "iopub.status.busy": "2024-05-16T21:18:25.23263Z",
          "iopub.execute_input": "2024-05-16T21:18:25.233167Z",
          "iopub.status.idle": "2024-05-16T21:18:25.245811Z",
          "shell.execute_reply.started": "2024-05-16T21:18:25.232918Z",
          "shell.execute_reply": "2024-05-16T21:18:25.244491Z"
        },
        "trusted": true,
        "id": "b7hUWVHGmwG7",
        "outputId": "533d9936-3ff1-4d27-9ff9-4f91a83cf5e3"
      },
      "execution_count": null,
      "outputs": [
        {
          "traceback": [
            "\u001b[0;31m---------------------------------------------------------------------------\u001b[0m",
            "\u001b[0;31mFileExistsError\u001b[0m                           Traceback (most recent call last)",
            "\u001b[0;32m<ipython-input-7-cae1e787cf27>\u001b[0m in \u001b[0;36m<module>\u001b[0;34m\u001b[0m\n\u001b[0;32m----> 1\u001b[0;31m \u001b[0mos\u001b[0m\u001b[0;34m.\u001b[0m\u001b[0mmkdir\u001b[0m\u001b[0;34m(\u001b[0m\u001b[0;34m'/kaggle/working/dataset'\u001b[0m\u001b[0;34m)\u001b[0m\u001b[0;34m\u001b[0m\u001b[0m\n\u001b[0m\u001b[1;32m      2\u001b[0m \u001b[0mos\u001b[0m\u001b[0;34m.\u001b[0m\u001b[0mmkdir\u001b[0m\u001b[0;34m(\u001b[0m\u001b[0;34m'/kaggle/working/dataset/real'\u001b[0m\u001b[0;34m)\u001b[0m\u001b[0;34m\u001b[0m\u001b[0m\n\u001b[1;32m      3\u001b[0m \u001b[0mos\u001b[0m\u001b[0;34m.\u001b[0m\u001b[0mmkdir\u001b[0m\u001b[0;34m(\u001b[0m\u001b[0;34m'/kaggle/working/dataset/fake'\u001b[0m\u001b[0;34m)\u001b[0m\u001b[0;34m\u001b[0m\u001b[0m\n",
            "\u001b[0;31mFileExistsError\u001b[0m: [Errno 17] File exists: '/kaggle/working/dataset'"
          ],
          "ename": "FileExistsError",
          "evalue": "[Errno 17] File exists: '/kaggle/working/dataset'",
          "output_type": "error"
        }
      ]
    },
    {
      "cell_type": "code",
      "source": [
        "train_frame_folder = '/kaggle/input/deepfake-detection-challenge/train_sample_videos'\n",
        "with open(os.path.join(train_frame_folder, 'metadata.json'), 'r') as file:\n",
        "    data = json.load(file)\n",
        "list_of_train_data = [f for f in os.listdir(train_frame_folder) if f.endswith('.mp4')]\n",
        "detector = dlib.get_frontal_face_detector()\n",
        "for vid in list_of_train_data:\n",
        "    count = 0\n",
        "    cap = cv2.VideoCapture(os.path.join(train_frame_folder, vid))\n",
        "    frameRate = cap.get(5)\n",
        "    while cap.isOpened():\n",
        "        frameId = cap.get(1)\n",
        "        ret, frame = cap.read()\n",
        "        if ret != True:\n",
        "            break\n",
        "        if frameId % ((int(frameRate)+1)*1) == 0:\n",
        "            face_rects, scores, idx = detector.run(frame, 0)\n",
        "            for i, d in enumerate(face_rects):\n",
        "                x1 = d.left()\n",
        "                y1 = d.top()\n",
        "                x2 = d.right()\n",
        "                y2 = d.bottom()\n",
        "                crop_img = frame[y1:y2, x1:x2]\n",
        "                if data[vid]['label'] == 'REAL':\n",
        "                    cv2.imwrite('/kaggle/working/dataset/real/'+vid.split('.')[0]+'_'+str(count)+'.png', cv2.resize(crop_img, (128, 128)))\n",
        "                elif data[vid]['label'] == 'FAKE':\n",
        "                    cv2.imwrite('/kaggle/working/dataset/fake/'+vid.split('.')[0]+'_'+str(count)+'.png', cv2.resize(crop_img, (128, 128)))\n",
        "                count+=1"
      ],
      "metadata": {
        "execution": {
          "iopub.status.busy": "2024-05-16T21:19:51.754357Z",
          "iopub.execute_input": "2024-05-16T21:19:51.754775Z",
          "iopub.status.idle": "2024-05-16T21:57:25.856237Z",
          "shell.execute_reply.started": "2024-05-16T21:19:51.754706Z",
          "shell.execute_reply": "2024-05-16T21:57:25.854993Z"
        },
        "trusted": true,
        "id": "roHI-G8_mwG7"
      },
      "execution_count": null,
      "outputs": []
    },
    {
      "cell_type": "code",
      "source": [
        "import os\n",
        "import cv2\n",
        "import json\n",
        "import tensorflow as tf\n",
        "import numpy as np\n",
        "import matplotlib.pyplot as plt\n",
        "import seaborn as sn\n",
        "import pandas as pd\n",
        "from tensorflow.keras.preprocessing.image import ImageDataGenerator, img_to_array, load_img\n",
        "from tensorflow.keras.utils import to_categorical\n",
        "from sklearn.model_selection import train_test_split\n",
        "from sklearn.metrics import confusion_matrix"
      ],
      "metadata": {
        "execution": {
          "iopub.status.busy": "2024-05-16T22:08:15.347416Z",
          "iopub.execute_input": "2024-05-16T22:08:15.34783Z",
          "iopub.status.idle": "2024-05-16T22:08:21.136103Z",
          "shell.execute_reply.started": "2024-05-16T22:08:15.347758Z",
          "shell.execute_reply": "2024-05-16T22:08:21.135013Z"
        },
        "trusted": true,
        "id": "IEaIaoU7mwG7"
      },
      "execution_count": null,
      "outputs": []
    },
    {
      "cell_type": "code",
      "source": [
        "input_shape = (128, 128, 3)\n",
        "data_dir = '/kaggle/working/dataset'\n",
        "\n",
        "real_data = [f for f in os.listdir(data_dir+'/real') if f.endswith('.png')]\n",
        "fake_data = [f for f in os.listdir(data_dir+'/fake') if f.endswith('.png')]\n",
        "\n",
        "X = []\n",
        "Y = []\n",
        "\n",
        "for img in real_data:\n",
        "    X.append(img_to_array(load_img(data_dir+'/real/'+img)).flatten() / 255.0)\n",
        "    Y.append(1)\n",
        "for img in fake_data:\n",
        "    X.append(img_to_array(load_img(data_dir+'/fake/'+img)).flatten() / 255.0)\n",
        "    Y.append(0)\n",
        "\n",
        "Y_val_org = Y\n",
        "\n",
        "X = np.array(X)\n",
        "Y = to_categorical(Y, 2)\n",
        "\n",
        "X = X.reshape(-1, 128, 128, 3)\n",
        "\n",
        "X_train, X_val, Y_train, Y_val = train_test_split(X, Y, test_size = 0.2, random_state=5)"
      ],
      "metadata": {
        "execution": {
          "iopub.status.busy": "2024-05-16T22:08:32.753358Z",
          "iopub.execute_input": "2024-05-16T22:08:32.753826Z",
          "iopub.status.idle": "2024-05-16T22:08:37.703066Z",
          "shell.execute_reply.started": "2024-05-16T22:08:32.75376Z",
          "shell.execute_reply": "2024-05-16T22:08:37.70217Z"
        },
        "trusted": true,
        "id": "SnE1d_oRmwG8"
      },
      "execution_count": null,
      "outputs": []
    },
    {
      "cell_type": "code",
      "source": [
        "print(Y_train)"
      ],
      "metadata": {
        "execution": {
          "iopub.status.busy": "2024-05-16T22:08:53.285993Z",
          "iopub.execute_input": "2024-05-16T22:08:53.286379Z",
          "iopub.status.idle": "2024-05-16T22:08:53.292208Z",
          "shell.execute_reply.started": "2024-05-16T22:08:53.286316Z",
          "shell.execute_reply": "2024-05-16T22:08:53.290985Z"
        },
        "trusted": true,
        "id": "VeUSTx5PmwG8",
        "outputId": "169a978f-7bee-4745-9edd-b6cb9b6edea9"
      },
      "execution_count": null,
      "outputs": [
        {
          "name": "stdout",
          "text": "[[1. 0.]\n [0. 1.]\n [1. 0.]\n ...\n [1. 0.]\n [1. 0.]\n [1. 0.]]\n",
          "output_type": "stream"
        }
      ]
    },
    {
      "cell_type": "code",
      "source": [
        "from tensorflow.keras.applications import InceptionResNetV2\n",
        "from tensorflow.keras.layers import Conv2D\n",
        "from tensorflow.keras.layers import MaxPooling2D\n",
        "from tensorflow.keras.layers import Flatten\n",
        "from tensorflow.keras.layers import Dense\n",
        "from tensorflow.keras.layers import Dropout\n",
        "from tensorflow.keras.layers import InputLayer\n",
        "from tensorflow.keras.layers import GlobalAveragePooling2D\n",
        "from tensorflow.keras.models import Sequential\n",
        "from tensorflow.keras.models import Model\n",
        "from tensorflow.keras import optimizers\n",
        "from tensorflow.keras.callbacks import ReduceLROnPlateau, EarlyStopping\n",
        "\n",
        "googleNet_model = InceptionResNetV2(include_top=False, weights='imagenet', input_shape=input_shape)\n",
        "googleNet_model.trainable = True\n",
        "model = Sequential()\n",
        "model.add(googleNet_model)\n",
        "model.add(GlobalAveragePooling2D())\n",
        "model.add(Dense(units=2, activation='softmax'))\n",
        "model.compile(loss='binary_crossentropy',\n",
        "              optimizer=optimizers.Adam(lr=1e-5, beta_1=0.9, beta_2=0.999, epsilon=None, decay=0.0, amsgrad=False),\n",
        "              metrics=['accuracy'])\n",
        "model.summary()"
      ],
      "metadata": {
        "execution": {
          "iopub.status.busy": "2024-05-16T22:09:01.363779Z",
          "iopub.execute_input": "2024-05-16T22:09:01.364197Z",
          "iopub.status.idle": "2024-05-16T22:09:24.818497Z",
          "shell.execute_reply.started": "2024-05-16T22:09:01.364124Z",
          "shell.execute_reply": "2024-05-16T22:09:24.817555Z"
        },
        "trusted": true,
        "id": "LFGFKXfMmwG8",
        "outputId": "7a4461da-4e17-4a15-c001-3a5c6cec01b2"
      },
      "execution_count": null,
      "outputs": [
        {
          "name": "stdout",
          "text": "Downloading data from https://github.com/fchollet/deep-learning-models/releases/download/v0.7/inception_resnet_v2_weights_tf_dim_ordering_tf_kernels_notop.h5\n219062272/219055592 [==============================] - 1s 0us/step\nModel: \"sequential\"\n_________________________________________________________________\nLayer (type)                 Output Shape              Param #   \n=================================================================\ninception_resnet_v2 (Model)  (None, 2, 2, 1536)        54336736  \n_________________________________________________________________\nglobal_average_pooling2d (Gl (None, 1536)              0         \n_________________________________________________________________\ndense (Dense)                (None, 2)                 3074      \n=================================================================\nTotal params: 54,339,810\nTrainable params: 54,279,266\nNon-trainable params: 60,544\n_________________________________________________________________\n",
          "output_type": "stream"
        }
      ]
    },
    {
      "cell_type": "code",
      "source": [
        "early_stopping = EarlyStopping(monitor='val_loss',\n",
        "                               min_delta=0,\n",
        "                               patience=2,\n",
        "                               verbose=0, mode='auto')\n",
        "EPOCHS = 20\n",
        "BATCH_SIZE = 100\n",
        "history = model.fit(X_train, Y_train, batch_size = BATCH_SIZE, epochs = EPOCHS, validation_data = (X_val, Y_val), verbose = 1)"
      ],
      "metadata": {
        "execution": {
          "iopub.status.busy": "2024-05-16T22:09:39.158344Z",
          "iopub.execute_input": "2024-05-16T22:09:39.158749Z",
          "iopub.status.idle": "2024-05-16T22:14:09.314103Z",
          "shell.execute_reply.started": "2024-05-16T22:09:39.158675Z",
          "shell.execute_reply": "2024-05-16T22:14:09.313268Z"
        },
        "trusted": true,
        "id": "vgAqPFXBmwG9",
        "outputId": "5adc7589-d96c-4a7f-aa0a-f9ae9cabac88"
      },
      "execution_count": null,
      "outputs": [
        {
          "name": "stdout",
          "text": "Train on 2996 samples, validate on 749 samples\nEpoch 1/20\n2996/2996 [==============================] - 50s 17ms/sample - loss: 0.5541 - accuracy: 0.7573 - val_loss: 0.5750 - val_accuracy: 0.7797\nEpoch 2/20\n2996/2996 [==============================] - 12s 4ms/sample - loss: 0.4174 - accuracy: 0.8515 - val_loss: 0.5395 - val_accuracy: 0.7850\nEpoch 3/20\n2996/2996 [==============================] - 12s 4ms/sample - loss: 0.3351 - accuracy: 0.8922 - val_loss: 0.5154 - val_accuracy: 0.7957\nEpoch 4/20\n2996/2996 [==============================] - 12s 4ms/sample - loss: 0.2695 - accuracy: 0.9196 - val_loss: 0.4724 - val_accuracy: 0.8144\nEpoch 5/20\n2996/2996 [==============================] - 12s 4ms/sample - loss: 0.2167 - accuracy: 0.9453 - val_loss: 0.4369 - val_accuracy: 0.8251\nEpoch 6/20\n2996/2996 [==============================] - 12s 4ms/sample - loss: 0.1696 - accuracy: 0.9623 - val_loss: 0.3986 - val_accuracy: 0.8665\nEpoch 7/20\n2996/2996 [==============================] - 12s 4ms/sample - loss: 0.1379 - accuracy: 0.9740 - val_loss: 0.3695 - val_accuracy: 0.8905\nEpoch 8/20\n2996/2996 [==============================] - 12s 4ms/sample - loss: 0.0995 - accuracy: 0.9866 - val_loss: 0.3463 - val_accuracy: 0.8959\nEpoch 9/20\n2996/2996 [==============================] - 12s 4ms/sample - loss: 0.0855 - accuracy: 0.9860 - val_loss: 0.3288 - val_accuracy: 0.8999\nEpoch 10/20\n2996/2996 [==============================] - 12s 4ms/sample - loss: 0.0791 - accuracy: 0.9873 - val_loss: 0.3109 - val_accuracy: 0.8985\nEpoch 11/20\n2996/2996 [==============================] - 12s 4ms/sample - loss: 0.0608 - accuracy: 0.9917 - val_loss: 0.3042 - val_accuracy: 0.9012\nEpoch 12/20\n2996/2996 [==============================] - 12s 4ms/sample - loss: 0.0449 - accuracy: 0.9937 - val_loss: 0.2985 - val_accuracy: 0.9119\nEpoch 13/20\n2996/2996 [==============================] - 12s 4ms/sample - loss: 0.0385 - accuracy: 0.9937 - val_loss: 0.2966 - val_accuracy: 0.9105\nEpoch 14/20\n2996/2996 [==============================] - 12s 4ms/sample - loss: 0.0326 - accuracy: 0.9933 - val_loss: 0.2951 - val_accuracy: 0.9146\nEpoch 15/20\n2996/2996 [==============================] - 12s 4ms/sample - loss: 0.0282 - accuracy: 0.9943 - val_loss: 0.2935 - val_accuracy: 0.9212\nEpoch 16/20\n2996/2996 [==============================] - 12s 4ms/sample - loss: 0.0235 - accuracy: 0.9970 - val_loss: 0.2946 - val_accuracy: 0.9159\nEpoch 17/20\n2996/2996 [==============================] - 12s 4ms/sample - loss: 0.0199 - accuracy: 0.9957 - val_loss: 0.3044 - val_accuracy: 0.9159\nEpoch 18/20\n2996/2996 [==============================] - 12s 4ms/sample - loss: 0.0178 - accuracy: 0.9977 - val_loss: 0.3006 - val_accuracy: 0.9212\nEpoch 19/20\n2996/2996 [==============================] - 12s 4ms/sample - loss: 0.0169 - accuracy: 0.9963 - val_loss: 0.3041 - val_accuracy: 0.9266\nEpoch 20/20\n2996/2996 [==============================] - 12s 4ms/sample - loss: 0.0209 - accuracy: 0.9953 - val_loss: 0.3182 - val_accuracy: 0.9052\n",
          "output_type": "stream"
        }
      ]
    },
    {
      "cell_type": "code",
      "source": [
        "f, (ax1, ax2) = plt.subplots(1, 2, figsize=(20, 4))\n",
        "t = f.suptitle('Pre-trained InceptionResNetV2 Transfer Learn with Fine-Tuning & Image Augmentation Performance ', fontsize=12)\n",
        "f.subplots_adjust(top=0.85, wspace=0.3)\n",
        "\n",
        "epoch_list = list(range(1,EPOCHS+1))\n",
        "ax1.plot(epoch_list, history.history['accuracy'], label='Train Accuracy')\n",
        "ax1.plot(epoch_list, history.history['val_accuracy'], label='Validation Accuracy')\n",
        "ax1.set_xticks(np.arange(0, EPOCHS+1, 1))\n",
        "ax1.set_ylabel('Accuracy Value')\n",
        "ax1.set_xlabel('Epoch #')\n",
        "ax1.set_title('Accuracy')\n",
        "l1 = ax1.legend(loc=\"best\")\n",
        "\n",
        "ax2.plot(epoch_list, history.history['loss'], label='Train Loss')\n",
        "ax2.plot(epoch_list, history.history['val_loss'], label='Validation Loss')\n",
        "ax2.set_xticks(np.arange(0, EPOCHS+1, 1))\n",
        "ax2.set_ylabel('Loss Value')\n",
        "ax2.set_xlabel('Epoch #')\n",
        "ax2.set_title('Loss')\n",
        "l2 = ax2.legend(loc=\"best\")"
      ],
      "metadata": {
        "execution": {
          "iopub.status.busy": "2024-05-16T22:14:17.360506Z",
          "iopub.execute_input": "2024-05-16T22:14:17.360887Z",
          "iopub.status.idle": "2024-05-16T22:14:18.164638Z",
          "shell.execute_reply.started": "2024-05-16T22:14:17.36082Z",
          "shell.execute_reply": "2024-05-16T22:14:18.163214Z"
        },
        "trusted": true,
        "id": "aigeKO4OmwG9",
        "outputId": "c9208575-e208-4684-ba32-0e2ed4bec24f"
      },
      "execution_count": null,
      "outputs": [
        {
          "output_type": "display_data",
          "data": {
            "text/plain": "<Figure size 1440x288 with 2 Axes>",
            "image/png": "[encoded data removed]"
          },
          "metadata": {
            "needs_background": "light"
          }
        }
      ]
    },
    {
      "cell_type": "code",
      "source": [
        "def print_confusion_matrix(y_true, y_pred):\n",
        "    cm = confusion_matrix(y_true, y_pred)\n",
        "    print('True positive = ', cm[0][0])\n",
        "    print('False positive = ', cm[0][1])\n",
        "    print('False negative = ', cm[1][0])\n",
        "    print('True negative = ', cm[1][1])\n",
        "    print('\\n')\n",
        "    df_cm = pd.DataFrame(cm, range(2), range(2))\n",
        "    sn.set(font_scale=1.4) # for label size\n",
        "    sn.heatmap(df_cm, annot=True, annot_kws={\"size\": 16}) # font size\n",
        "    plt.ylabel('Actual label', size = 20)\n",
        "    plt.xlabel('Predicted label', size = 20)\n",
        "    plt.xticks(np.arange(2), ['Fake', 'Real'], size = 16)\n",
        "    plt.yticks(np.arange(2), ['Fake', 'Real'], size = 16)\n",
        "    plt.ylim([2, 0])\n",
        "    plt.show()\n",
        "\n",
        "print_confusion_matrix(Y_val_org, model.predict_classes(X))"
      ],
      "metadata": {
        "execution": {
          "iopub.status.busy": "2024-05-16T22:14:27.975495Z",
          "iopub.execute_input": "2024-05-16T22:14:27.975896Z",
          "iopub.status.idle": "2024-05-16T22:14:43.688364Z",
          "shell.execute_reply.started": "2024-05-16T22:14:27.975819Z",
          "shell.execute_reply": "2024-05-16T22:14:43.683844Z"
        },
        "trusted": true,
        "id": "YAsMw3nJmwG9",
        "outputId": "dd8c7df8-0b4a-43f4-e14a-9a39131b34ae"
      },
      "execution_count": null,
      "outputs": [
        {
          "name": "stdout",
          "text": "True positive =  2954\nFalse positive =  32\nFalse negative =  53\nTrue negative =  706\n\n\n",
          "output_type": "stream"
        },
        {
          "output_type": "display_data",
          "data": {
            "text/plain": "<Figure size 432x288 with 2 Axes>",
            "image/png": "[encoded data removed]"
          },
          "metadata": {}
        }
      ]
    },
    {
      "cell_type": "code",
      "source": [
        "model.save('deepfake-detection-model.h5')"
      ],
      "metadata": {
        "execution": {
          "iopub.status.busy": "2024-05-16T22:15:11.153286Z",
          "iopub.execute_input": "2024-05-16T22:15:11.153648Z",
          "iopub.status.idle": "2024-05-16T22:15:14.197753Z",
          "shell.execute_reply.started": "2024-05-16T22:15:11.153597Z",
          "shell.execute_reply": "2024-05-16T22:15:14.196964Z"
        },
        "trusted": true,
        "id": "LwfCOd5VmwG9"
      },
      "execution_count": null,
      "outputs": []
    },
    {
      "cell_type": "code",
      "source": [
        "import tensorflow as tf\n",
        "import dlib\n",
        "import cv2\n",
        "import os\n",
        "import numpy as np\n",
        "from PIL import Image, ImageChops, ImageEnhance\n",
        "from tensorflow.keras.models import load_model\n",
        "from tensorflow.keras.preprocessing.image import img_to_array, load_img"
      ],
      "metadata": {
        "execution": {
          "iopub.status.busy": "2024-05-16T22:15:36.073509Z",
          "iopub.execute_input": "2024-05-16T22:15:36.073924Z",
          "iopub.status.idle": "2024-05-16T22:15:36.080441Z",
          "shell.execute_reply.started": "2024-05-16T22:15:36.073848Z",
          "shell.execute_reply": "2024-05-16T22:15:36.079471Z"
        },
        "trusted": true,
        "id": "q4_VGgsbmwG9"
      },
      "execution_count": null,
      "outputs": []
    },
    {
      "cell_type": "code",
      "source": [
        "tf.__version__"
      ],
      "metadata": {
        "execution": {
          "iopub.status.busy": "2024-05-16T22:15:40.337708Z",
          "iopub.execute_input": "2024-05-16T22:15:40.338097Z",
          "iopub.status.idle": "2024-05-16T22:15:40.34377Z",
          "shell.execute_reply.started": "2024-05-16T22:15:40.338016Z",
          "shell.execute_reply": "2024-05-16T22:15:40.342855Z"
        },
        "trusted": true,
        "id": "juTcJy9DmwG9",
        "outputId": "d76508ba-581a-4be5-e091-6fb55a898b86"
      },
      "execution_count": null,
      "outputs": [
        {
          "execution_count": 18,
          "output_type": "execute_result",
          "data": {
            "text/plain": "'2.1.0-rc0'"
          },
          "metadata": {}
        }
      ]
    },
    {
      "cell_type": "code",
      "source": [
        "model = load_model('deepfake-detection-model.h5')"
      ],
      "metadata": {
        "execution": {
          "iopub.status.busy": "2024-05-16T22:15:44.818509Z",
          "iopub.execute_input": "2024-05-16T22:15:44.818889Z",
          "iopub.status.idle": "2024-05-16T22:16:46.184297Z",
          "shell.execute_reply.started": "2024-05-16T22:15:44.818821Z",
          "shell.execute_reply": "2024-05-16T22:16:46.183335Z"
        },
        "trusted": true,
        "id": "RBij_Be5mwG-"
      },
      "execution_count": null,
      "outputs": []
    },
    {
      "cell_type": "code",
      "source": [
        "input_shape = (128, 128, 3)\n",
        "pr_data = []\n",
        "detector = dlib.get_frontal_face_detector()\n",
        "cap = cv2.VideoCapture('../input/deepfake-detection-challenge/test_videos/jzmzdispyo.mp4')\n",
        "frameRate = cap.get(5)\n",
        "while cap.isOpened():\n",
        "    frameId = cap.get(1)\n",
        "    ret, frame = cap.read()\n",
        "    if ret != True:\n",
        "        break\n",
        "    if frameId % ((int(frameRate)+1)*1) == 0:\n",
        "        face_rects, scores, idx = detector.run(frame, 0)\n",
        "        for i, d in enumerate(face_rects):\n",
        "            x1 = d.left()\n",
        "            y1 = d.top()\n",
        "            x2 = d.right()\n",
        "            y2 = d.bottom()\n",
        "            crop_img = frame[y1:y2, x1:x2]\n",
        "            data = img_to_array(cv2.resize(crop_img, (128, 128))).flatten() / 255.0\n",
        "            data = data.reshape(-1, 128, 128, 3)\n",
        "            print(model.predict_classes(data))"
      ],
      "metadata": {
        "execution": {
          "iopub.status.busy": "2024-05-16T22:17:07.108788Z",
          "iopub.execute_input": "2024-05-16T22:17:07.10918Z",
          "iopub.status.idle": "2024-05-16T22:17:19.089771Z",
          "shell.execute_reply.started": "2024-05-16T22:17:07.109116Z",
          "shell.execute_reply": "2024-05-16T22:17:19.088559Z"
        },
        "trusted": true,
        "id": "Ycd6bPJNmwG-",
        "outputId": "50c29845-e1e7-460d-c73e-41a927cb98b1"
      },
      "execution_count": null,
      "outputs": [
        {
          "name": "stdout",
          "text": "[0]\n[0]\n[1]\n[0]\n[0]\n[0]\n[0]\n[0]\n[0]\n[0]\n",
          "output_type": "stream"
        }
      ]
    },
    {
      "cell_type": "code",
      "source": [
        "import sklearn.metrics\n",
        "cm = sklearn.metrics.accuracy_score(Y_val_org, model.predict_classes(X))"
      ],
      "metadata": {
        "execution": {
          "iopub.status.busy": "2024-05-16T22:18:29.77002Z",
          "iopub.execute_input": "2024-05-16T22:18:29.770462Z",
          "iopub.status.idle": "2024-05-16T22:18:40.25568Z",
          "shell.execute_reply.started": "2024-05-16T22:18:29.77039Z",
          "shell.execute_reply": "2024-05-16T22:18:40.254653Z"
        },
        "trusted": true,
        "id": "xKMZx2YSmwG-"
      },
      "execution_count": null,
      "outputs": []
    },
    {
      "cell_type": "code",
      "source": [
        "print(cm)"
      ],
      "metadata": {
        "execution": {
          "iopub.status.busy": "2024-05-16T22:19:18.119676Z",
          "iopub.execute_input": "2024-05-16T22:19:18.120033Z",
          "iopub.status.idle": "2024-05-16T22:19:18.125326Z",
          "shell.execute_reply.started": "2024-05-16T22:19:18.11998Z",
          "shell.execute_reply": "2024-05-16T22:19:18.124237Z"
        },
        "trusted": true,
        "id": "n0_70E0jmwHA",
        "outputId": "cbfdaca3-7f9d-4dd5-97fb-519ce91b7d1d"
      },
      "execution_count": null,
      "outputs": [
        {
          "name": "stdout",
          "text": "0.9773030707610146\n",
          "output_type": "stream"
        }
      ]
    },
    {
      "cell_type": "code",
      "source": [
        "!pip install keras_efficientnets\n",
        "\n",
        "from keras_efficientnets import EfficientNetB5"
      ],
      "metadata": {
        "execution": {
          "iopub.status.busy": "2024-05-16T22:23:26.047237Z",
          "iopub.execute_input": "2024-05-16T22:23:26.047585Z",
          "iopub.status.idle": "2024-05-16T22:23:33.329378Z",
          "shell.execute_reply.started": "2024-05-16T22:23:26.047535Z",
          "shell.execute_reply": "2024-05-16T22:23:33.32847Z"
        },
        "trusted": true,
        "id": "Qmq2VQOGmwHB",
        "outputId": "efc3c3a3-4a92-46d6-828d-3e56881f6d08"
      },
      "execution_count": null,
      "outputs": [
        {
          "name": "stdout",
          "text": "Requirement already satisfied: keras_efficientnets in /opt/conda/lib/python3.6/site-packages (0.1.7)\nRequirement already satisfied: scikit-learn>=0.21.2 in /opt/conda/lib/python3.6/site-packages (from keras_efficientnets) (0.21.3)\nRequirement already satisfied: scipy>=1.1.0 in /opt/conda/lib/python3.6/site-packages (from keras_efficientnets) (1.3.3)\nRequirement already satisfied: keras>=2.2.4 in /opt/conda/lib/python3.6/site-packages (from keras_efficientnets) (2.3.1)\nRequirement already satisfied: numpy>=1.11.0 in /opt/conda/lib/python3.6/site-packages (from scikit-learn>=0.21.2->keras_efficientnets) (1.17.4)\nRequirement already satisfied: joblib>=0.11 in /opt/conda/lib/python3.6/site-packages (from scikit-learn>=0.21.2->keras_efficientnets) (0.14.0)\nRequirement already satisfied: pyyaml in /opt/conda/lib/python3.6/site-packages (from keras>=2.2.4->keras_efficientnets) (5.1.2)\nRequirement already satisfied: keras-applications>=1.0.6 in /opt/conda/lib/python3.6/site-packages (from keras>=2.2.4->keras_efficientnets) (1.0.8)\nRequirement already satisfied: six>=1.9.0 in /opt/conda/lib/python3.6/site-packages (from keras>=2.2.4->keras_efficientnets) (1.13.0)\nRequirement already satisfied: keras-preprocessing>=1.0.5 in /opt/conda/lib/python3.6/site-packages (from keras>=2.2.4->keras_efficientnets) (1.1.0)\nRequirement already satisfied: h5py in /opt/conda/lib/python3.6/site-packages (from keras>=2.2.4->keras_efficientnets) (2.9.0)\n",
          "output_type": "stream"
        }
      ]
    },
    {
      "cell_type": "code",
      "source": [
        "!pip install efficientnet\n"
      ],
      "metadata": {
        "execution": {
          "iopub.status.busy": "2024-05-16T22:25:42.907871Z",
          "iopub.execute_input": "2024-05-16T22:25:42.908247Z",
          "iopub.status.idle": "2024-05-16T22:25:50.818614Z",
          "shell.execute_reply.started": "2024-05-16T22:25:42.908193Z",
          "shell.execute_reply": "2024-05-16T22:25:50.817333Z"
        },
        "trusted": true,
        "id": "5uPRN5zcmwHB",
        "outputId": "d0ac0404-ee3a-4ea4-ccd7-e0a989ea1424"
      },
      "execution_count": null,
      "outputs": [
        {
          "name": "stdout",
          "text": "Collecting efficientnet\n  Downloading https://files.pythonhosted.org/packages/53/97/84f88e581d6ac86dcf1ab347c497c4c568c38784e3a2bd659b96912ab793/efficientnet-1.1.1-py3-none-any.whl\nRequirement already satisfied: keras-applications<=1.0.8,>=1.0.7 in /opt/conda/lib/python3.6/site-packages (from efficientnet) (1.0.8)\nRequirement already satisfied: scikit-image in /opt/conda/lib/python3.6/site-packages (from efficientnet) (0.16.2)\nRequirement already satisfied: numpy>=1.9.1 in /opt/conda/lib/python3.6/site-packages (from keras-applications<=1.0.8,>=1.0.7->efficientnet) (1.17.4)\nRequirement already satisfied: h5py in /opt/conda/lib/python3.6/site-packages (from keras-applications<=1.0.8,>=1.0.7->efficientnet) (2.9.0)\nRequirement already satisfied: scipy>=0.19.0 in /opt/conda/lib/python3.6/site-packages (from scikit-image->efficientnet) (1.3.3)\nRequirement already satisfied: imageio>=2.3.0 in /opt/conda/lib/python3.6/site-packages (from scikit-image->efficientnet) (2.6.1)\nRequirement already satisfied: matplotlib!=3.0.0,>=2.0.0 in /opt/conda/lib/python3.6/site-packages (from scikit-image->efficientnet) (3.0.3)\nRequirement already satisfied: pillow>=4.3.0 in /opt/conda/lib/python3.6/site-packages (from scikit-image->efficientnet) (5.4.1)\nRequirement already satisfied: networkx>=2.0 in /opt/conda/lib/python3.6/site-packages (from scikit-image->efficientnet) (2.4)\nRequirement already satisfied: PyWavelets>=0.4.0 in /opt/conda/lib/python3.6/site-packages (from scikit-image->efficientnet) (1.1.1)\nRequirement already satisfied: six in /opt/conda/lib/python3.6/site-packages (from h5py->keras-applications<=1.0.8,>=1.0.7->efficientnet) (1.13.0)\nRequirement already satisfied: cycler>=0.10 in /opt/conda/lib/python3.6/site-packages (from matplotlib!=3.0.0,>=2.0.0->scikit-image->efficientnet) (0.10.0)\nRequirement already satisfied: kiwisolver>=1.0.1 in /opt/conda/lib/python3.6/site-packages (from matplotlib!=3.0.0,>=2.0.0->scikit-image->efficientnet) (1.1.0)\nRequirement already satisfied: pyparsing!=2.0.4,!=2.1.2,!=2.1.6,>=2.0.1 in /opt/conda/lib/python3.6/site-packages (from matplotlib!=3.0.0,>=2.0.0->scikit-image->efficientnet) (2.4.5)\nRequirement already satisfied: python-dateutil>=2.1 in /opt/conda/lib/python3.6/site-packages (from matplotlib!=3.0.0,>=2.0.0->scikit-image->efficientnet) (2.8.0)\nRequirement already satisfied: decorator>=4.3.0 in /opt/conda/lib/python3.6/site-packages (from networkx>=2.0->scikit-image->efficientnet) (4.4.1)\nRequirement already satisfied: setuptools in /opt/conda/lib/python3.6/site-packages (from kiwisolver>=1.0.1->matplotlib!=3.0.0,>=2.0.0->scikit-image->efficientnet) (42.0.1.post20191125)\nInstalling collected packages: efficientnet\nSuccessfully installed efficientnet-1.1.1\n",
          "output_type": "stream"
        }
      ]
    },
    {
      "cell_type": "code",
      "source": [
        "from efficientnet.tfkeras import EfficientNetB5\n",
        "from tensorflow.keras.models import Model\n",
        "from tensorflow.keras.layers import Input, Dense, Flatten\n",
        "\n",
        "input_shape = (128, 128, 3)\n",
        "base_model = EfficientNetB5(include_top=False, weights=\"imagenet\", input_shape=input_shape)\n",
        "input_layer = Input(shape=input_shape)\n",
        "x = base_model(input_layer, training=False)\n",
        "x = Flatten()(x)\n",
        "x = Dense(1024, activation='relu')(x)\n",
        "x = Dense(512, activation='relu')(x)\n",
        "x = Dense(256, activation='relu')(x)\n",
        "x = Dense(128, activation='relu')(x)\n",
        "output_layer = Dense(2, activation='softmax')(x)\n",
        "\n",
        "\n",
        "model1 = Model(inputs=input_layer, outputs=output_layer)\n",
        "model1.summary()\n"
      ],
      "metadata": {
        "execution": {
          "iopub.status.busy": "2024-05-16T22:25:54.573754Z",
          "iopub.execute_input": "2024-05-16T22:25:54.574152Z",
          "iopub.status.idle": "2024-05-16T22:26:13.37663Z",
          "shell.execute_reply.started": "2024-05-16T22:25:54.574064Z",
          "shell.execute_reply": "2024-05-16T22:26:13.37571Z"
        },
        "trusted": true,
        "id": "beAab_njmwHB",
        "outputId": "0c30b10a-6c17-4125-c2dc-a28971f52e79"
      },
      "execution_count": null,
      "outputs": [
        {
          "name": "stdout",
          "text": "Downloading data from https://github.com/Callidior/keras-applications/releases/download/efficientnet/efficientnet-b5_weights_tf_dim_ordering_tf_kernels_autoaugment_notop.h5\n115515392/115515256 [==============================] - 1s 0us/step\nModel: \"model\"\n_________________________________________________________________\nLayer (type)                 Output Shape              Param #   \n=================================================================\ninput_4 (InputLayer)         [(None, 128, 128, 3)]     0         \n_________________________________________________________________\nefficientnet-b5 (Model)      (None, 4, 4, 2048)        28513520  \n_________________________________________________________________\nflatten (Flatten)            (None, 32768)             0         \n_________________________________________________________________\ndense_1 (Dense)              (None, 1024)              33555456  \n_________________________________________________________________\ndense_2 (Dense)              (None, 512)               524800    \n_________________________________________________________________\ndense_3 (Dense)              (None, 256)               131328    \n_________________________________________________________________\ndense_4 (Dense)              (None, 128)               32896     \n_________________________________________________________________\ndense_5 (Dense)              (None, 2)                 258       \n=================================================================\nTotal params: 62,758,258\nTrainable params: 62,585,522\nNon-trainable params: 172,736\n_________________________________________________________________\n",
          "output_type": "stream"
        }
      ]
    },
    {
      "cell_type": "code",
      "source": [
        "from tensorflow.keras.optimizers import SGD, Adam"
      ],
      "metadata": {
        "execution": {
          "iopub.status.busy": "2024-05-16T22:26:57.943536Z",
          "iopub.execute_input": "2024-05-16T22:26:57.943933Z",
          "iopub.status.idle": "2024-05-16T22:26:57.950146Z",
          "shell.execute_reply.started": "2024-05-16T22:26:57.943866Z",
          "shell.execute_reply": "2024-05-16T22:26:57.949196Z"
        },
        "trusted": true,
        "id": "UhyEgcEnmwHB"
      },
      "execution_count": null,
      "outputs": []
    },
    {
      "cell_type": "code",
      "source": [
        "batch_size= 200\n",
        "epochs=15\n",
        "learn_rate=.001\n",
        "sgd=SGD(learning_rate=learn_rate,momentum=.9,nesterov=False)\n",
        "adam=Adam(learning_rate=learn_rate, beta_1=0.9, beta_2=0.999, epsilon=None, decay=0.0, amsgrad=False)\n",
        "model1.compile(optimizer=sgd,loss='binary_crossentropy',metrics=['accuracy'])"
      ],
      "metadata": {
        "execution": {
          "iopub.status.busy": "2024-05-16T22:27:01.511593Z",
          "iopub.execute_input": "2024-05-16T22:27:01.511938Z",
          "iopub.status.idle": "2024-05-16T22:27:01.668213Z",
          "shell.execute_reply.started": "2024-05-16T22:27:01.511887Z",
          "shell.execute_reply": "2024-05-16T22:27:01.66738Z"
        },
        "trusted": true,
        "id": "faAjIk7kmwHB"
      },
      "execution_count": null,
      "outputs": []
    },
    {
      "cell_type": "code",
      "source": [
        "history = model1.fit(X_train,Y_train, batch_size = 100, epochs = 25, validation_data = (X_val,Y_val), verbose = 1)"
      ],
      "metadata": {
        "execution": {
          "iopub.status.busy": "2024-05-16T22:27:09.709973Z",
          "iopub.execute_input": "2024-05-16T22:27:09.710372Z",
          "iopub.status.idle": "2024-05-16T22:36:28.719197Z",
          "shell.execute_reply.started": "2024-05-16T22:27:09.710312Z",
          "shell.execute_reply": "2024-05-16T22:36:28.718399Z"
        },
        "trusted": true,
        "id": "4wX49SdymwHB",
        "outputId": "81569771-9644-4966-ff89-b3bd4d1b39a2"
      },
      "execution_count": null,
      "outputs": [
        {
          "name": "stdout",
          "text": "Train on 2996 samples, validate on 749 samples\nEpoch 1/25\n2996/2996 [==============================] - 50s 17ms/sample - loss: 0.5019 - accuracy: 0.7774 - val_loss: 0.4694 - val_accuracy: 0.7864\nEpoch 2/25\n2996/2996 [==============================] - 21s 7ms/sample - loss: 0.4075 - accuracy: 0.8154 - val_loss: 0.4195 - val_accuracy: 0.8291\nEpoch 3/25\n2996/2996 [==============================] - 21s 7ms/sample - loss: 0.3364 - accuracy: 0.8525 - val_loss: 0.3786 - val_accuracy: 0.8358\nEpoch 4/25\n2996/2996 [==============================] - 21s 7ms/sample - loss: 0.2671 - accuracy: 0.8879 - val_loss: 0.3533 - val_accuracy: 0.8505\nEpoch 5/25\n2996/2996 [==============================] - 21s 7ms/sample - loss: 0.2357 - accuracy: 0.9015 - val_loss: 0.3110 - val_accuracy: 0.8825\nEpoch 6/25\n2996/2996 [==============================] - 21s 7ms/sample - loss: 0.1709 - accuracy: 0.9312 - val_loss: 0.2916 - val_accuracy: 0.8838\nEpoch 7/25\n2996/2996 [==============================] - 21s 7ms/sample - loss: 0.1397 - accuracy: 0.9443 - val_loss: 0.2849 - val_accuracy: 0.8838\nEpoch 8/25\n2996/2996 [==============================] - 21s 7ms/sample - loss: 0.1242 - accuracy: 0.9536 - val_loss: 0.3158 - val_accuracy: 0.8705\nEpoch 9/25\n2996/2996 [==============================] - 21s 7ms/sample - loss: 0.0896 - accuracy: 0.9713 - val_loss: 0.2682 - val_accuracy: 0.9012\nEpoch 10/25\n2996/2996 [==============================] - 21s 7ms/sample - loss: 0.0716 - accuracy: 0.9750 - val_loss: 0.2819 - val_accuracy: 0.9079\nEpoch 11/25\n2996/2996 [==============================] - 21s 7ms/sample - loss: 0.0564 - accuracy: 0.9816 - val_loss: 0.3140 - val_accuracy: 0.8892\nEpoch 12/25\n2996/2996 [==============================] - 21s 7ms/sample - loss: 0.0397 - accuracy: 0.9890 - val_loss: 0.2994 - val_accuracy: 0.9065\nEpoch 13/25\n2996/2996 [==============================] - 21s 7ms/sample - loss: 0.0763 - accuracy: 0.9730 - val_loss: 0.2732 - val_accuracy: 0.8999\nEpoch 14/25\n2996/2996 [==============================] - 21s 7ms/sample - loss: 0.0406 - accuracy: 0.9873 - val_loss: 0.2891 - val_accuracy: 0.9025\nEpoch 15/25\n2996/2996 [==============================] - 21s 7ms/sample - loss: 0.0311 - accuracy: 0.9900 - val_loss: 0.3053 - val_accuracy: 0.9132\nEpoch 16/25\n2996/2996 [==============================] - 21s 7ms/sample - loss: 0.0307 - accuracy: 0.9890 - val_loss: 0.3081 - val_accuracy: 0.9105\nEpoch 17/25\n2996/2996 [==============================] - 21s 7ms/sample - loss: 0.0247 - accuracy: 0.9910 - val_loss: 0.2906 - val_accuracy: 0.9079\nEpoch 18/25\n2996/2996 [==============================] - 21s 7ms/sample - loss: 0.0233 - accuracy: 0.9933 - val_loss: 0.2933 - val_accuracy: 0.9119\nEpoch 19/25\n2996/2996 [==============================] - 21s 7ms/sample - loss: 0.0209 - accuracy: 0.9943 - val_loss: 0.3643 - val_accuracy: 0.9039\nEpoch 20/25\n2996/2996 [==============================] - 21s 7ms/sample - loss: 0.0180 - accuracy: 0.9947 - val_loss: 0.3335 - val_accuracy: 0.9119\nEpoch 21/25\n2996/2996 [==============================] - 21s 7ms/sample - loss: 0.0120 - accuracy: 0.9967 - val_loss: 0.3323 - val_accuracy: 0.9105\nEpoch 22/25\n2996/2996 [==============================] - 21s 7ms/sample - loss: 0.0187 - accuracy: 0.9947 - val_loss: 0.3227 - val_accuracy: 0.9172\nEpoch 23/25\n2996/2996 [==============================] - 21s 7ms/sample - loss: 0.0183 - accuracy: 0.9937 - val_loss: 0.3561 - val_accuracy: 0.9146\nEpoch 24/25\n2996/2996 [==============================] - 21s 7ms/sample - loss: 0.0147 - accuracy: 0.9953 - val_loss: 0.3362 - val_accuracy: 0.9092\nEpoch 25/25\n2996/2996 [==============================] - 21s 7ms/sample - loss: 0.0131 - accuracy: 0.9957 - val_loss: 0.3808 - val_accuracy: 0.9146\n",
          "output_type": "stream"
        }
      ]
    },
    {
      "cell_type": "code",
      "source": [
        "import numpy as np\n",
        "\n",
        "# Assuming model1.predict(X) returns probabilities for each class\n",
        "probabilities = model1.predict(X)\n",
        "predicted_classes = np.argmax(probabilities, axis=1)\n",
        "\n",
        "# Now you can calculate accuracy\n",
        "accuracy = sklearn.metrics.accuracy_score(Y_val_org, predicted_classes)\n",
        "print(\"Accuracy:\", accuracy)"
      ],
      "metadata": {
        "execution": {
          "iopub.status.busy": "2024-05-16T22:37:59.435733Z",
          "iopub.execute_input": "2024-05-16T22:37:59.436303Z",
          "iopub.status.idle": "2024-05-16T22:38:12.62742Z",
          "shell.execute_reply.started": "2024-05-16T22:37:59.436054Z",
          "shell.execute_reply": "2024-05-16T22:38:12.626232Z"
        },
        "trusted": true,
        "id": "whUWaeOBmwHC",
        "outputId": "3ec41958-b8cf-47c5-a04c-12092e0bdc69"
      },
      "execution_count": null,
      "outputs": [
        {
          "name": "stdout",
          "text": "Accuracy: 0.9802403204272363\n",
          "output_type": "stream"
        }
      ]
    },
    {
      "cell_type": "code",
      "source": [
        "import h5py"
      ],
      "metadata": {
        "execution": {
          "iopub.status.busy": "2024-05-16T22:38:24.764116Z",
          "iopub.execute_input": "2024-05-16T22:38:24.764675Z",
          "iopub.status.idle": "2024-05-16T22:38:24.769026Z",
          "shell.execute_reply.started": "2024-05-16T22:38:24.764429Z",
          "shell.execute_reply": "2024-05-16T22:38:24.767846Z"
        },
        "trusted": true,
        "id": "haSW2SVRmwHC"
      },
      "execution_count": null,
      "outputs": []
    },
    {
      "cell_type": "code",
      "source": [
        "filename = \"./deepfake-detection-model.h5\"\n",
        "\n",
        "h5 = h5py.File(filename,'r')\n",
        "print(h5)\n",
        "h5.close()"
      ],
      "metadata": {
        "execution": {
          "iopub.status.busy": "2024-05-16T22:38:29.500172Z",
          "iopub.execute_input": "2024-05-16T22:38:29.500559Z",
          "iopub.status.idle": "2024-05-16T22:38:29.507205Z",
          "shell.execute_reply.started": "2024-05-16T22:38:29.500481Z",
          "shell.execute_reply": "2024-05-16T22:38:29.506072Z"
        },
        "trusted": true,
        "id": "eVhvKNqAmwHC",
        "outputId": "5139e7eb-7f54-427c-cd39-70eecd97bd5b"
      },
      "execution_count": null,
      "outputs": [
        {
          "name": "stdout",
          "text": "<HDF5 file \"deepfake-detection-model.h5\" (mode r)>\n",
          "output_type": "stream"
        }
      ]
    },
    {
      "cell_type": "code",
      "source": [
        "import keras,os\n",
        "from keras.models import Sequential\n",
        "from keras.layers import Dense, Conv2D, MaxPool2D , Flatten\n",
        "from keras.preprocessing.image import ImageDataGenerator\n",
        "import numpy as np\n",
        "from keras.applications.vgg16 import VGG16\n",
        "from tensorflow.keras.optimizers import SGD,Adam"
      ],
      "metadata": {
        "execution": {
          "iopub.status.busy": "2024-05-16T22:38:32.533833Z",
          "iopub.execute_input": "2024-05-16T22:38:32.534197Z",
          "iopub.status.idle": "2024-05-16T22:38:32.540421Z",
          "shell.execute_reply.started": "2024-05-16T22:38:32.534143Z",
          "shell.execute_reply": "2024-05-16T22:38:32.539497Z"
        },
        "trusted": true,
        "id": "LqK0a90umwHC"
      },
      "execution_count": null,
      "outputs": []
    },
    {
      "cell_type": "code",
      "source": [
        "base_model = VGG16(include_top = False, weights = 'imagenet', input_shape = input_shape, classes = 2)\n",
        "model= Sequential()\n",
        "model.add(base_model)\n",
        "model.add(Flatten())\n",
        "model.summary()"
      ],
      "metadata": {
        "execution": {
          "iopub.status.busy": "2024-05-16T22:38:37.41327Z",
          "iopub.execute_input": "2024-05-16T22:38:37.413651Z",
          "iopub.status.idle": "2024-05-16T22:38:38.203593Z",
          "shell.execute_reply.started": "2024-05-16T22:38:37.413581Z",
          "shell.execute_reply": "2024-05-16T22:38:38.202283Z"
        },
        "trusted": true,
        "id": "Mh4KeE_CmwHC",
        "outputId": "3eaa00a1-d81b-4f0a-f901-44531b52fbf5"
      },
      "execution_count": null,
      "outputs": [
        {
          "name": "stdout",
          "text": "Downloading data from https://github.com/fchollet/deep-learning-models/releases/download/v0.1/vgg16_weights_tf_dim_ordering_tf_kernels_notop.h5\n58892288/58889256 [==============================] - 0s 0us/step\nModel: \"sequential_1\"\n_________________________________________________________________\nLayer (type)                 Output Shape              Param #   \n=================================================================\nvgg16 (Model)                (None, 4, 4, 512)         14714688  \n_________________________________________________________________\nflatten_1 (Flatten)          (None, 8192)              0         \n=================================================================\nTotal params: 14,714,688\nTrainable params: 14,714,688\nNon-trainable params: 0\n_________________________________________________________________\n",
          "output_type": "stream"
        }
      ]
    },
    {
      "cell_type": "code",
      "source": [
        "model.add(Dense(1024,activation=('relu'),input_dim=2))\n",
        "model.add(Dense(512,activation=('relu')))\n",
        "model.add(Dense(256,activation=('relu')))\n",
        "\n",
        "model.add(Dense(128,activation=('relu')))\n",
        "#model.add(Dropout(.2))\n",
        "model.add(Dense(64,activation=('relu')))\n",
        "model.add(Dense(32,activation=('relu')))\n",
        "model.add(Dense(8,activation=('relu')))\n",
        "#model.add(Dropout(.4))\n",
        "model.add(Dense(2,activation=('softmax')))\n",
        "\n",
        "#Checking the final model summary\n",
        "model.summary()"
      ],
      "metadata": {
        "execution": {
          "iopub.status.busy": "2024-05-16T22:38:42.148289Z",
          "iopub.execute_input": "2024-05-16T22:38:42.148639Z",
          "iopub.status.idle": "2024-05-16T22:38:42.227682Z",
          "shell.execute_reply.started": "2024-05-16T22:38:42.148588Z",
          "shell.execute_reply": "2024-05-16T22:38:42.226621Z"
        },
        "trusted": true,
        "id": "7Sf2YExkmwHC",
        "outputId": "9678c1db-b1e1-4349-d4f5-631d49b84b7e"
      },
      "execution_count": null,
      "outputs": [
        {
          "name": "stdout",
          "text": "Model: \"sequential_1\"\n_________________________________________________________________\nLayer (type)                 Output Shape              Param #   \n=================================================================\nvgg16 (Model)                (None, 4, 4, 512)         14714688  \n_________________________________________________________________\nflatten_1 (Flatten)          (None, 8192)              0         \n_________________________________________________________________\ndense_1 (Dense)              (None, 1024)              8389632   \n_________________________________________________________________\ndense_2 (Dense)              (None, 512)               524800    \n_________________________________________________________________\ndense_3 (Dense)              (None, 256)               131328    \n_________________________________________________________________\ndense_4 (Dense)              (None, 128)               32896     \n_________________________________________________________________\ndense_5 (Dense)              (None, 64)                8256      \n_________________________________________________________________\ndense_6 (Dense)              (None, 32)                2080      \n_________________________________________________________________\ndense_7 (Dense)              (None, 8)                 264       \n_________________________________________________________________\ndense_8 (Dense)              (None, 2)                 18        \n=================================================================\nTotal params: 23,803,962\nTrainable params: 23,803,962\nNon-trainable params: 0\n_________________________________________________________________\n",
          "output_type": "stream"
        }
      ]
    },
    {
      "cell_type": "code",
      "source": [
        "batch_size= 200\n",
        "epochs=15\n",
        "learn_rate=.001\n",
        "sgd=SGD(learning_rate=learn_rate,momentum=.9,nesterov=False)\n",
        "adam=Adam(learning_rate=learn_rate, beta_1=0.9, beta_2=0.999, epsilon=None, decay=0.0, amsgrad=False)\n",
        "model.compile(optimizer=sgd,loss='binary_crossentropy',metrics=['accuracy'])"
      ],
      "metadata": {
        "execution": {
          "iopub.status.busy": "2024-05-16T22:38:47.535275Z",
          "iopub.execute_input": "2024-05-16T22:38:47.53562Z",
          "iopub.status.idle": "2024-05-16T22:38:47.578657Z",
          "shell.execute_reply.started": "2024-05-16T22:38:47.535567Z",
          "shell.execute_reply": "2024-05-16T22:38:47.577756Z"
        },
        "trusted": true,
        "id": "sc6yoqBymwHC"
      },
      "execution_count": null,
      "outputs": []
    },
    {
      "cell_type": "code",
      "source": [
        "history = model.fit(X_train,Y_train, batch_size = 500, epochs = 29, validation_data = (X_val,Y_val), verbose = 1)"
      ],
      "metadata": {
        "execution": {
          "iopub.status.busy": "2024-05-16T22:44:50.077947Z",
          "iopub.execute_input": "2024-05-16T22:44:50.078366Z",
          "iopub.status.idle": "2024-05-16T22:48:45.001268Z",
          "shell.execute_reply.started": "2024-05-16T22:44:50.078306Z",
          "shell.execute_reply": "2024-05-16T22:48:45.000167Z"
        },
        "trusted": true,
        "id": "gsportV2mwHD",
        "outputId": "ea937e22-99a9-462d-a20e-3aae1d04da6e"
      },
      "execution_count": null,
      "outputs": [
        {
          "name": "stdout",
          "text": "Train on 2996 samples, validate on 749 samples\nEpoch 1/29\n2996/2996 [==============================] - 8s 3ms/step - loss: 0.3104 - accuracy: 0.8738 - val_loss: 0.4880 - val_accuracy: 0.7503\nEpoch 2/29\n2996/2996 [==============================] - 8s 3ms/step - loss: 0.3986 - accuracy: 0.8388 - val_loss: 0.3839 - val_accuracy: 0.8678\nEpoch 3/29\n2996/2996 [==============================] - 8s 3ms/step - loss: 0.3287 - accuracy: 0.8698 - val_loss: 0.3675 - val_accuracy: 0.8598\nEpoch 4/29\n2996/2996 [==============================] - 8s 3ms/step - loss: 0.2833 - accuracy: 0.8955 - val_loss: 0.2998 - val_accuracy: 0.8838\nEpoch 5/29\n2996/2996 [==============================] - 8s 3ms/step - loss: 0.2400 - accuracy: 0.9092 - val_loss: 0.2929 - val_accuracy: 0.8798\nEpoch 6/29\n2996/2996 [==============================] - 8s 3ms/step - loss: 0.2034 - accuracy: 0.9242 - val_loss: 0.2375 - val_accuracy: 0.8972\nEpoch 7/29\n2996/2996 [==============================] - 8s 3ms/step - loss: 0.1794 - accuracy: 0.9322 - val_loss: 0.3689 - val_accuracy: 0.8411\nEpoch 8/29\n2996/2996 [==============================] - 8s 3ms/step - loss: 0.3648 - accuracy: 0.8458 - val_loss: 0.4357 - val_accuracy: 0.7997\nEpoch 9/29\n2996/2996 [==============================] - 8s 3ms/step - loss: 0.3380 - accuracy: 0.8762 - val_loss: 0.3779 - val_accuracy: 0.8358\nEpoch 10/29\n2996/2996 [==============================] - 8s 3ms/step - loss: 0.2992 - accuracy: 0.8825 - val_loss: 0.3097 - val_accuracy: 0.8785\nEpoch 11/29\n2996/2996 [==============================] - 8s 3ms/step - loss: 0.2428 - accuracy: 0.9092 - val_loss: 0.2508 - val_accuracy: 0.8985\nEpoch 12/29\n2996/2996 [==============================] - 8s 3ms/step - loss: 0.1911 - accuracy: 0.9322 - val_loss: 0.2310 - val_accuracy: 0.9065\nEpoch 13/29\n2996/2996 [==============================] - 8s 3ms/step - loss: 0.1486 - accuracy: 0.9466 - val_loss: 0.2653 - val_accuracy: 0.8945\nEpoch 14/29\n2996/2996 [==============================] - 8s 3ms/step - loss: 0.1567 - accuracy: 0.9396 - val_loss: 0.2386 - val_accuracy: 0.9226\nEpoch 15/29\n2996/2996 [==============================] - 8s 3ms/step - loss: 0.1866 - accuracy: 0.9216 - val_loss: 0.3142 - val_accuracy: 0.8772\nEpoch 16/29\n2996/2996 [==============================] - 8s 3ms/step - loss: 0.1594 - accuracy: 0.9399 - val_loss: 0.2369 - val_accuracy: 0.9012\nEpoch 17/29\n2996/2996 [==============================] - 8s 3ms/step - loss: 0.1322 - accuracy: 0.9509 - val_loss: 0.1982 - val_accuracy: 0.9146\nEpoch 18/29\n2996/2996 [==============================] - 8s 3ms/step - loss: 0.1077 - accuracy: 0.9633 - val_loss: 0.1738 - val_accuracy: 0.9292\nEpoch 19/29\n2996/2996 [==============================] - 8s 3ms/step - loss: 0.0902 - accuracy: 0.9683 - val_loss: 0.1786 - val_accuracy: 0.9306\nEpoch 20/29\n2996/2996 [==============================] - 8s 3ms/step - loss: 0.0774 - accuracy: 0.9706 - val_loss: 0.1711 - val_accuracy: 0.9359\nEpoch 21/29\n2996/2996 [==============================] - 8s 3ms/step - loss: 0.0612 - accuracy: 0.9776 - val_loss: 0.1764 - val_accuracy: 0.9292\nEpoch 22/29\n2996/2996 [==============================] - 8s 3ms/step - loss: 0.0500 - accuracy: 0.9846 - val_loss: 0.2046 - val_accuracy: 0.9252\nEpoch 23/29\n2996/2996 [==============================] - 8s 3ms/step - loss: 0.0700 - accuracy: 0.9733 - val_loss: 0.2826 - val_accuracy: 0.9079\nEpoch 24/29\n2996/2996 [==============================] - 8s 3ms/step - loss: 0.1454 - accuracy: 0.9433 - val_loss: 0.3093 - val_accuracy: 0.8838\nEpoch 25/29\n2996/2996 [==============================] - 8s 3ms/step - loss: 0.1151 - accuracy: 0.9549 - val_loss: 0.1947 - val_accuracy: 0.9199\nEpoch 26/29\n2996/2996 [==============================] - 8s 3ms/step - loss: 0.0840 - accuracy: 0.9703 - val_loss: 0.1917 - val_accuracy: 0.9212\nEpoch 27/29\n2996/2996 [==============================] - 8s 3ms/step - loss: 0.0665 - accuracy: 0.9800 - val_loss: 0.1929 - val_accuracy: 0.9172\nEpoch 28/29\n2996/2996 [==============================] - 8s 3ms/step - loss: 0.0503 - accuracy: 0.9850 - val_loss: 0.1581 - val_accuracy: 0.9372\nEpoch 29/29\n2996/2996 [==============================] - 8s 3ms/step - loss: 0.0360 - accuracy: 0.9887 - val_loss: 0.1604 - val_accuracy: 0.9426\n",
          "output_type": "stream"
        }
      ]
    },
    {
      "cell_type": "code",
      "source": [
        "print_confusion_matrix(Y_val_org, model.predict_classes(X))"
      ],
      "metadata": {
        "execution": {
          "iopub.status.busy": "2024-05-16T22:49:00.981066Z",
          "iopub.execute_input": "2024-05-16T22:49:00.981428Z",
          "iopub.status.idle": "2024-05-16T22:49:04.634254Z",
          "shell.execute_reply.started": "2024-05-16T22:49:00.981376Z",
          "shell.execute_reply": "2024-05-16T22:49:04.632789Z"
        },
        "trusted": true,
        "id": "Kgtuma--mwHD",
        "outputId": "e8a117e2-4e21-4467-e0f2-6d14294d3696"
      },
      "execution_count": null,
      "outputs": [
        {
          "name": "stdout",
          "text": "True positive =  2965\nFalse positive =  21\nFalse negative =  42\nTrue negative =  717\n\n\n",
          "output_type": "stream"
        },
        {
          "output_type": "display_data",
          "data": {
            "text/plain": "<Figure size 432x288 with 2 Axes>",
            "image/png": "[encoded data removed]"
          },
          "metadata": {}
        }
      ]
    },
    {
      "cell_type": "code",
      "source": [
        "import sklearn.metrics\n",
        "cm = sklearn.metrics.accuracy_score(Y_val_org, model.predict_classes(X))\n",
        "print(cm)"
      ],
      "metadata": {
        "execution": {
          "iopub.status.busy": "2024-05-16T22:49:11.117613Z",
          "iopub.execute_input": "2024-05-16T22:49:11.117959Z",
          "iopub.status.idle": "2024-05-16T22:49:14.444625Z",
          "shell.execute_reply.started": "2024-05-16T22:49:11.117909Z",
          "shell.execute_reply": "2024-05-16T22:49:14.443525Z"
        },
        "trusted": true,
        "id": "QXrQ-fqdmwHG",
        "outputId": "29a1bea3-5797-483e-ae6c-fdeef5a2d6d6"
      },
      "execution_count": null,
      "outputs": [
        {
          "name": "stdout",
          "text": "0.983177570093458\n",
          "output_type": "stream"
        }
      ]
    }
  ]
}